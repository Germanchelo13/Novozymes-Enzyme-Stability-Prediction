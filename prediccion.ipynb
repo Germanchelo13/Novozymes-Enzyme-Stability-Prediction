{
 "cells": [
  {
   "cell_type": "markdown",
   "id": "c8fcdfd8-c46b-493e-ac42-9496aa1948d3",
   "metadata": {},
   "source": [
    "# Objetivo de la competición\n",
    "\n",
    "Las enzimas son proteínas que actúan como catalizadores en las reacciones químicas de los organismos vivos. El objetivo de esta competencia es predecir la termoestabilidad de las variantes enzimáticas.\n",
    "\n",
    "## Librerias"
   ]
  },
  {
   "cell_type": "code",
   "execution_count": 1,
   "id": "529498c2-64fe-4131-b909-63e232e0b923",
   "metadata": {},
   "outputs": [],
   "source": [
    "import pandas as pd\n",
    "import numpy as np\n",
    "from sklearn.model_selection import train_test_split\n",
    "from sklearn.preprocessing import LabelEncoder\n",
    "from sklearn.preprocessing import OrdinalEncoder\n",
    "from itertools import chain, combinations, permutations\n",
    "import sklearn.decomposition\n",
    "import statsmodels.formula.api as smf\n",
    "import tqdm as tq\n",
    "# import xgboost as xgb\n",
    "import matplotlib.pyplot as plt\n",
    "import plotly.express as px\n",
    "\n",
    "def abline(slope, intercept):\n",
    "    \"\"\"Plot a line from slope and intercept\"\"\"\n",
    "    axes = plt.gca()\n",
    "    x_vals = np.array(axes.get_xlim())\n",
    "    y_vals = intercept + slope * x_vals\n",
    "    plt.plot(x_vals, y_vals)"
   ]
  },
  {
   "cell_type": "code",
   "execution_count": 2,
   "id": "7484cdcf-a52a-4d6e-a06c-d4714f597568",
   "metadata": {},
   "outputs": [
    {
     "data": {
      "text/plain": [
       "400"
      ]
     },
     "execution_count": 2,
     "metadata": {},
     "output_type": "execute_result"
    }
   ],
   "source": [
    "import matplotlib.pyplot as plt\n",
    "def abline(slope, intercept):\n",
    "    \"\"\"Plot a line from slope and intercept\"\"\"\n",
    "    axes = plt.gca()\n",
    "    x_vals = np.array(axes.get_xlim())\n",
    "    y_vals = intercept + slope * x_vals\n",
    "    plt.plot(x_vals, y_vals)\n",
    "\n",
    "    \n",
    "def periodo_letter(texto_:str, letter:str):\n",
    "    df_prueba=(pd.Series(list(texto_)))#.index\n",
    "    indices=df_prueba[df_prueba==letter].index\n",
    "    if len(indices)>2:\n",
    "        periodo=indices[1:]-indices[:-1]\n",
    "        periodo=sum(periodo)//len(periodo)\n",
    "    else:\n",
    "        periodo=0\n",
    "    return periodo\n",
    "\n",
    "def letter_periodo(df_:pd.DataFrame, column_:str,list_letter:list):\n",
    "    \n",
    "    for letter in tq.tqdm(list_letter):\n",
    "        var_temp=df_[column_].apply(lambda x: periodo_letter(x, letter) ) \n",
    "        df_ = pd.concat([df_, var_temp.rename(\"periodo\"+letter)], axis=1)\n",
    "    \n",
    "    return df_\n",
    "\n",
    "def powerset_formulas(variables:list, response:str,left_,right_):\n",
    "    \"\"\"\n",
    "    Genera la combinacion de formulas posibles de las variables hacia la variable respuesta\n",
    "    para un modelo lm\n",
    "    powerset([1,2,3]) --> () (1,) (2,) (3,) (1,2) (1,3) (2,3) (1,2,3)\n",
    "    variables: list de str.\n",
    "    response: la variable respuesta en funcion de variables.\n",
    "    return: list de formulas posibles con las variables.\n",
    "    \"\"\"\n",
    "    comb_=list(chain.from_iterable(combinations(variables, r) for r in range(left_,right_+1  )))\n",
    "    formulas=[response+\"~\"+\"+\".join(list(comb_[i])) for i in range(1,len(comb_))]\n",
    "    return formulas\n",
    "\n",
    "def count_letter(df_: pd.DataFrame, column_: str, list_letter:list):\n",
    "    \"\"\"\n",
    "    \n",
    "    \"\"\"\n",
    "    column_len=len(list(df_))\n",
    "    for letter in tq.tqdm(list_letter):\n",
    "        var_temp=(df_[column_].str.count(letter))#/df_[\"protein_length\"]).copy() \n",
    "        df_ = pd.concat([df_, var_temp.rename(letter)], axis=1)\n",
    "    return df_\n",
    "\n",
    "def powerset(iterable):\n",
    "    s = (iterable)\n",
    "    return list(chain.from_iterable(permutations(s, r) for r in range(3)))\n",
    "\n",
    "def count_puentes(text_:str, pos1:str,pos2:str):\n",
    "    \"\"\"\n",
    "    \n",
    "    \"\"\"\n",
    "\n",
    "    frecuencia=0\n",
    "    list_texto=list(text_)\n",
    "    for distancia in [4,5]:\n",
    "        posicion_1 =pd.Series(list_texto[distancia:],dtype=\"str\" )\n",
    "        posicion_2= pd.Series(list_texto[:-distancia ],dtype=\"str\")        \n",
    "        frecuencia=frecuencia+ sum(((posicion_1==pos1)  & (posicion_2==pos2) ) )\n",
    "    \n",
    "    return frecuencia/len(text_)\n",
    "\n",
    "def puentes_hidrogeno(df_:pd.DataFrame,column_:str,posiciones_1:str, posiciones_2:str  ):\n",
    "    \"\"\"\n",
    "    \"\"\"\n",
    "    for posicion1 in posiciones_1:\n",
    "        for posicion2 in posiciones_2:\n",
    "            df_temp=df_[column_].apply(lambda x: count_puentes(x,posicion1,posicion2 ) ).copy()\n",
    "            df_=pd.concat([df_ , df_temp.rename(posicion1+\"-\"+posicion2)],axis=1)\n",
    "    return df_\n",
    "    \n",
    "list_letter=list(\"ARNDCEQGHILKMFPSTWYV\")\n",
    "list_words=[\"\".join(list(x)) for x in powerset(list_letter)[1:]]\n",
    "len(set(list_words))    \n",
    "\n"
   ]
  },
  {
   "cell_type": "markdown",
   "id": "5ca15030-d887-4f8a-8e7a-7c145216eac2",
   "metadata": {},
   "source": [
    "# Lectura de datos\n",
    "\n",
    "En la descripción de la competencia se dan varias definciones de las base de datos que se tienen.\n",
    "\n",
    "Como primer paso se realizara una limipeza de datos que se encuentra referencia:\n",
    "\n",
    "https://www.kaggle.com/competitions/novozymes-enzyme-stability-prediction/discussion/356251\n",
    "\n",
    "\n",
    "En ella se menciona que train.csv tiene problemas de datos faltantes y que no se a modificado, donde el train_updates_20220929.csv se usa para depurar la información.\n"
   ]
  },
  {
   "cell_type": "code",
   "execution_count": 3,
   "id": "86a046d1-908c-44c4-b813-4b51914afac3",
   "metadata": {
    "tags": []
   },
   "outputs": [
    {
     "name": "stderr",
     "output_type": "stream",
     "text": [
      "100%|██████████| 20/20 [00:01<00:00, 15.42it/s]\n"
     ]
    }
   ],
   "source": [
    "df_train = pd.read_csv('train.csv')#,index_col=\"seq_id\")\n",
    "df_train_updates = pd.read_csv(\"train_updates_20220929.csv\")#,index_col=\"seq_id\")\n",
    "# filtro=df_train_updates.isnull().all(\"columns\")\n",
    "# all_features_nan = (df_train_updates[filtro].index)\n",
    "# df_train=df_train.loc[~df_train.index.isin(list(all_features_nan))  ]\n",
    "# swap_ph_tm_indices = df_train_updates[~filtro].index\n",
    "# df_train.loc[swap_ph_tm_indices , [\"pH\", \"tm\"] ]=df_train_updates.loc[swap_ph_tm_indices , [\"pH\", \"tm\"] ]\n",
    "# df_train=df_train.loc[~df_train[\"pH\"].isna(), ]\n",
    "temp = df_train_updates[df_train_updates[\"pH\"] > -0.1]\n",
    "for i in range(len(temp)):\n",
    "    df_train[df_train.seq_id == temp.iloc[i].seq_id] = temp.iloc[i]\n",
    "\n",
    "df_train[['pH','tm']] = df_train[['tm','pH']].where(df_train['pH'] > 14, df_train[['pH','tm']].values)\n",
    "df_train.dropna(inplace=True)\n",
    "X = df_train[['protein_sequence', 'pH']].copy()\n",
    "Y = df_train[['tm']].copy()\n",
    "X['protein_length'] = X.protein_sequence.apply(lambda x: len(x))\n",
    "X = count_letter(X, \"protein_sequence\",list_letter)#, list_words)\n",
    "# X=letter_periodo(X, \"protein_sequence\", list_letter)\n",
    "# X=puentes_hidrogeno(X, \"protein_sequence\", \"N\", \"H\")\n",
    "# X=puentes_hidrogeno(X, \"protein_sequence\", \"S\", \"S\")\n",
    "X['protein_length'] = np.log(X['protein_length'])\n",
    "X=X.drop(labels=\"protein_sequence\",axis=1).copy()"
   ]
  },
  {
   "cell_type": "code",
   "execution_count": 12,
   "id": "b7d80418-c561-4250-a80c-1821c6820651",
   "metadata": {},
   "outputs": [],
   "source": [
    "df_temp=X.copy()\n",
    "df_temp[\"tm\"]=Y[\"tm\"]\n",
    "cor_temp=df_temp.corr(method=\"spearman\" )\n",
    "corr_tm=cor_temp.loc[\"tm\",]\n",
    "var_=list(corr_tm[abs(corr_tm)>0.13].sort_values().index[:-1])"
   ]
  },
  {
   "cell_type": "code",
   "execution_count": 11,
   "id": "2e426820-7899-4cdf-9ae3-31b277fd80cc",
   "metadata": {
    "collapsed": true,
    "jupyter": {
     "outputs_hidden": true
    },
    "tags": []
   },
   "outputs": [
    {
     "name": "stderr",
     "output_type": "stream",
     "text": [
      "C:\\ProgramData\\Anaconda3\\lib\\site-packages\\pandas\\core\\internals\\blocks.py:402: RuntimeWarning: divide by zero encountered in log\n",
      "  result = func(self.values, **kwargs)\n",
      "C:\\ProgramData\\Anaconda3\\lib\\site-packages\\sklearn\\utils\\validation.py:993: DataConversionWarning: A column-vector y was passed when a 1d array was expected. Please change the shape of y to (n_samples, ), for example using ravel().\n",
      "  y = column_or_1d(y, warn=True)\n"
     ]
    },
    {
     "ename": "ValueError",
     "evalue": "Input contains NaN, infinity or a value too large for dtype('float64').",
     "output_type": "error",
     "traceback": [
      "\u001b[1;31m---------------------------------------------------------------------------\u001b[0m",
      "\u001b[1;31mValueError\u001b[0m                                Traceback (most recent call last)",
      "Input \u001b[1;32mIn [11]\u001b[0m, in \u001b[0;36m<cell line: 2>\u001b[1;34m()\u001b[0m\n\u001b[0;32m      1\u001b[0m \u001b[38;5;28;01mimport\u001b[39;00m \u001b[38;5;21;01msklearn\u001b[39;00m\u001b[38;5;21;01m.\u001b[39;00m\u001b[38;5;21;01mfeature_selection\u001b[39;00m\n\u001b[1;32m----> 2\u001b[0m modelo_\u001b[38;5;241m=\u001b[39m\u001b[43msklearn\u001b[49m\u001b[38;5;241;43m.\u001b[39;49m\u001b[43mfeature_selection\u001b[49m\u001b[38;5;241;43m.\u001b[39;49m\u001b[43mmutual_info_regression\u001b[49m\u001b[43m(\u001b[49m\u001b[43m \u001b[49m\u001b[43mX\u001b[49m\u001b[43m \u001b[49m\u001b[43m,\u001b[49m\u001b[43mnp\u001b[49m\u001b[38;5;241;43m.\u001b[39;49m\u001b[43mlog\u001b[49m\u001b[43m(\u001b[49m\u001b[43m \u001b[49m\u001b[43mY\u001b[49m\u001b[43m)\u001b[49m\u001b[43m \u001b[49m\u001b[43m)\u001b[49m\n\u001b[0;32m      3\u001b[0m score\u001b[38;5;241m=\u001b[39mpd\u001b[38;5;241m.\u001b[39mDataFrame(modelo_)\n\u001b[0;32m      4\u001b[0m score\u001b[38;5;241m.\u001b[39mindex\u001b[38;5;241m=\u001b[39mX\u001b[38;5;241m.\u001b[39mcolumns\n",
      "File \u001b[1;32mC:\\ProgramData\\Anaconda3\\lib\\site-packages\\sklearn\\feature_selection\\_mutual_info.py:384\u001b[0m, in \u001b[0;36mmutual_info_regression\u001b[1;34m(X, y, discrete_features, n_neighbors, copy, random_state)\u001b[0m\n\u001b[0;32m    308\u001b[0m \u001b[38;5;28;01mdef\u001b[39;00m \u001b[38;5;21mmutual_info_regression\u001b[39m(\n\u001b[0;32m    309\u001b[0m     X, y, \u001b[38;5;241m*\u001b[39m, discrete_features\u001b[38;5;241m=\u001b[39m\u001b[38;5;124m\"\u001b[39m\u001b[38;5;124mauto\u001b[39m\u001b[38;5;124m\"\u001b[39m, n_neighbors\u001b[38;5;241m=\u001b[39m\u001b[38;5;241m3\u001b[39m, copy\u001b[38;5;241m=\u001b[39m\u001b[38;5;28;01mTrue\u001b[39;00m, random_state\u001b[38;5;241m=\u001b[39m\u001b[38;5;28;01mNone\u001b[39;00m\n\u001b[0;32m    310\u001b[0m ):\n\u001b[0;32m    311\u001b[0m     \u001b[38;5;124;03m\"\"\"Estimate mutual information for a continuous target variable.\u001b[39;00m\n\u001b[0;32m    312\u001b[0m \n\u001b[0;32m    313\u001b[0m \u001b[38;5;124;03m    Mutual information (MI) [1]_ between two random variables is a non-negative\u001b[39;00m\n\u001b[1;32m   (...)\u001b[0m\n\u001b[0;32m    382\u001b[0m \u001b[38;5;124;03m           of a Random Vector\", Probl. Peredachi Inf., 23:2 (1987), 9-16\u001b[39;00m\n\u001b[0;32m    383\u001b[0m \u001b[38;5;124;03m    \"\"\"\u001b[39;00m\n\u001b[1;32m--> 384\u001b[0m     \u001b[38;5;28;01mreturn\u001b[39;00m \u001b[43m_estimate_mi\u001b[49m\u001b[43m(\u001b[49m\u001b[43mX\u001b[49m\u001b[43m,\u001b[49m\u001b[43m \u001b[49m\u001b[43my\u001b[49m\u001b[43m,\u001b[49m\u001b[43m \u001b[49m\u001b[43mdiscrete_features\u001b[49m\u001b[43m,\u001b[49m\u001b[43m \u001b[49m\u001b[38;5;28;43;01mFalse\u001b[39;49;00m\u001b[43m,\u001b[49m\u001b[43m \u001b[49m\u001b[43mn_neighbors\u001b[49m\u001b[43m,\u001b[49m\u001b[43m \u001b[49m\u001b[43mcopy\u001b[49m\u001b[43m,\u001b[49m\u001b[43m \u001b[49m\u001b[43mrandom_state\u001b[49m\u001b[43m)\u001b[49m\n",
      "File \u001b[1;32mC:\\ProgramData\\Anaconda3\\lib\\site-packages\\sklearn\\feature_selection\\_mutual_info.py:256\u001b[0m, in \u001b[0;36m_estimate_mi\u001b[1;34m(X, y, discrete_features, discrete_target, n_neighbors, copy, random_state)\u001b[0m\n\u001b[0;32m    199\u001b[0m \u001b[38;5;28;01mdef\u001b[39;00m \u001b[38;5;21m_estimate_mi\u001b[39m(\n\u001b[0;32m    200\u001b[0m     X,\n\u001b[0;32m    201\u001b[0m     y,\n\u001b[1;32m   (...)\u001b[0m\n\u001b[0;32m    206\u001b[0m     random_state\u001b[38;5;241m=\u001b[39m\u001b[38;5;28;01mNone\u001b[39;00m,\n\u001b[0;32m    207\u001b[0m ):\n\u001b[0;32m    208\u001b[0m     \u001b[38;5;124;03m\"\"\"Estimate mutual information between the features and the target.\u001b[39;00m\n\u001b[0;32m    209\u001b[0m \n\u001b[0;32m    210\u001b[0m \u001b[38;5;124;03m    Parameters\u001b[39;00m\n\u001b[1;32m   (...)\u001b[0m\n\u001b[0;32m    254\u001b[0m \u001b[38;5;124;03m           Data Sets\". PLoS ONE 9(2), 2014.\u001b[39;00m\n\u001b[0;32m    255\u001b[0m \u001b[38;5;124;03m    \"\"\"\u001b[39;00m\n\u001b[1;32m--> 256\u001b[0m     X, y \u001b[38;5;241m=\u001b[39m \u001b[43mcheck_X_y\u001b[49m\u001b[43m(\u001b[49m\u001b[43mX\u001b[49m\u001b[43m,\u001b[49m\u001b[43m \u001b[49m\u001b[43my\u001b[49m\u001b[43m,\u001b[49m\u001b[43m \u001b[49m\u001b[43maccept_sparse\u001b[49m\u001b[38;5;241;43m=\u001b[39;49m\u001b[38;5;124;43m\"\u001b[39;49m\u001b[38;5;124;43mcsc\u001b[39;49m\u001b[38;5;124;43m\"\u001b[39;49m\u001b[43m,\u001b[49m\u001b[43m \u001b[49m\u001b[43my_numeric\u001b[49m\u001b[38;5;241;43m=\u001b[39;49m\u001b[38;5;129;43;01mnot\u001b[39;49;00m\u001b[43m \u001b[49m\u001b[43mdiscrete_target\u001b[49m\u001b[43m)\u001b[49m\n\u001b[0;32m    257\u001b[0m     n_samples, n_features \u001b[38;5;241m=\u001b[39m X\u001b[38;5;241m.\u001b[39mshape\n\u001b[0;32m    259\u001b[0m     \u001b[38;5;28;01mif\u001b[39;00m \u001b[38;5;28misinstance\u001b[39m(discrete_features, (\u001b[38;5;28mstr\u001b[39m, \u001b[38;5;28mbool\u001b[39m)):\n",
      "File \u001b[1;32mC:\\ProgramData\\Anaconda3\\lib\\site-packages\\sklearn\\utils\\validation.py:979\u001b[0m, in \u001b[0;36mcheck_X_y\u001b[1;34m(X, y, accept_sparse, accept_large_sparse, dtype, order, copy, force_all_finite, ensure_2d, allow_nd, multi_output, ensure_min_samples, ensure_min_features, y_numeric, estimator)\u001b[0m\n\u001b[0;32m    962\u001b[0m     \u001b[38;5;28;01mraise\u001b[39;00m \u001b[38;5;167;01mValueError\u001b[39;00m(\u001b[38;5;124m\"\u001b[39m\u001b[38;5;124my cannot be None\u001b[39m\u001b[38;5;124m\"\u001b[39m)\n\u001b[0;32m    964\u001b[0m X \u001b[38;5;241m=\u001b[39m check_array(\n\u001b[0;32m    965\u001b[0m     X,\n\u001b[0;32m    966\u001b[0m     accept_sparse\u001b[38;5;241m=\u001b[39maccept_sparse,\n\u001b[1;32m   (...)\u001b[0m\n\u001b[0;32m    976\u001b[0m     estimator\u001b[38;5;241m=\u001b[39mestimator,\n\u001b[0;32m    977\u001b[0m )\n\u001b[1;32m--> 979\u001b[0m y \u001b[38;5;241m=\u001b[39m \u001b[43m_check_y\u001b[49m\u001b[43m(\u001b[49m\u001b[43my\u001b[49m\u001b[43m,\u001b[49m\u001b[43m \u001b[49m\u001b[43mmulti_output\u001b[49m\u001b[38;5;241;43m=\u001b[39;49m\u001b[43mmulti_output\u001b[49m\u001b[43m,\u001b[49m\u001b[43m \u001b[49m\u001b[43my_numeric\u001b[49m\u001b[38;5;241;43m=\u001b[39;49m\u001b[43my_numeric\u001b[49m\u001b[43m)\u001b[49m\n\u001b[0;32m    981\u001b[0m check_consistent_length(X, y)\n\u001b[0;32m    983\u001b[0m \u001b[38;5;28;01mreturn\u001b[39;00m X, y\n",
      "File \u001b[1;32mC:\\ProgramData\\Anaconda3\\lib\\site-packages\\sklearn\\utils\\validation.py:994\u001b[0m, in \u001b[0;36m_check_y\u001b[1;34m(y, multi_output, y_numeric)\u001b[0m\n\u001b[0;32m    992\u001b[0m \u001b[38;5;28;01melse\u001b[39;00m:\n\u001b[0;32m    993\u001b[0m     y \u001b[38;5;241m=\u001b[39m column_or_1d(y, warn\u001b[38;5;241m=\u001b[39m\u001b[38;5;28;01mTrue\u001b[39;00m)\n\u001b[1;32m--> 994\u001b[0m     \u001b[43m_assert_all_finite\u001b[49m\u001b[43m(\u001b[49m\u001b[43my\u001b[49m\u001b[43m)\u001b[49m\n\u001b[0;32m    995\u001b[0m     _ensure_no_complex_data(y)\n\u001b[0;32m    996\u001b[0m \u001b[38;5;28;01mif\u001b[39;00m y_numeric \u001b[38;5;129;01mand\u001b[39;00m y\u001b[38;5;241m.\u001b[39mdtype\u001b[38;5;241m.\u001b[39mkind \u001b[38;5;241m==\u001b[39m \u001b[38;5;124m\"\u001b[39m\u001b[38;5;124mO\u001b[39m\u001b[38;5;124m\"\u001b[39m:\n",
      "File \u001b[1;32mC:\\ProgramData\\Anaconda3\\lib\\site-packages\\sklearn\\utils\\validation.py:114\u001b[0m, in \u001b[0;36m_assert_all_finite\u001b[1;34m(X, allow_nan, msg_dtype)\u001b[0m\n\u001b[0;32m    107\u001b[0m     \u001b[38;5;28;01mif\u001b[39;00m (\n\u001b[0;32m    108\u001b[0m         allow_nan\n\u001b[0;32m    109\u001b[0m         \u001b[38;5;129;01mand\u001b[39;00m np\u001b[38;5;241m.\u001b[39misinf(X)\u001b[38;5;241m.\u001b[39many()\n\u001b[0;32m    110\u001b[0m         \u001b[38;5;129;01mor\u001b[39;00m \u001b[38;5;129;01mnot\u001b[39;00m allow_nan\n\u001b[0;32m    111\u001b[0m         \u001b[38;5;129;01mand\u001b[39;00m \u001b[38;5;129;01mnot\u001b[39;00m np\u001b[38;5;241m.\u001b[39misfinite(X)\u001b[38;5;241m.\u001b[39mall()\n\u001b[0;32m    112\u001b[0m     ):\n\u001b[0;32m    113\u001b[0m         type_err \u001b[38;5;241m=\u001b[39m \u001b[38;5;124m\"\u001b[39m\u001b[38;5;124minfinity\u001b[39m\u001b[38;5;124m\"\u001b[39m \u001b[38;5;28;01mif\u001b[39;00m allow_nan \u001b[38;5;28;01melse\u001b[39;00m \u001b[38;5;124m\"\u001b[39m\u001b[38;5;124mNaN, infinity\u001b[39m\u001b[38;5;124m\"\u001b[39m\n\u001b[1;32m--> 114\u001b[0m         \u001b[38;5;28;01mraise\u001b[39;00m \u001b[38;5;167;01mValueError\u001b[39;00m(\n\u001b[0;32m    115\u001b[0m             msg_err\u001b[38;5;241m.\u001b[39mformat(\n\u001b[0;32m    116\u001b[0m                 type_err, msg_dtype \u001b[38;5;28;01mif\u001b[39;00m msg_dtype \u001b[38;5;129;01mis\u001b[39;00m \u001b[38;5;129;01mnot\u001b[39;00m \u001b[38;5;28;01mNone\u001b[39;00m \u001b[38;5;28;01melse\u001b[39;00m X\u001b[38;5;241m.\u001b[39mdtype\n\u001b[0;32m    117\u001b[0m             )\n\u001b[0;32m    118\u001b[0m         )\n\u001b[0;32m    119\u001b[0m \u001b[38;5;66;03m# for object dtype data, we only check for NaNs (GH-13254)\u001b[39;00m\n\u001b[0;32m    120\u001b[0m \u001b[38;5;28;01melif\u001b[39;00m X\u001b[38;5;241m.\u001b[39mdtype \u001b[38;5;241m==\u001b[39m np\u001b[38;5;241m.\u001b[39mdtype(\u001b[38;5;124m\"\u001b[39m\u001b[38;5;124mobject\u001b[39m\u001b[38;5;124m\"\u001b[39m) \u001b[38;5;129;01mand\u001b[39;00m \u001b[38;5;129;01mnot\u001b[39;00m allow_nan:\n",
      "\u001b[1;31mValueError\u001b[0m: Input contains NaN, infinity or a value too large for dtype('float64')."
     ]
    }
   ],
   "source": [
    "import sklearn.feature_selection\n",
    "modelo_=sklearn.feature_selection.mutual_info_regression( X ,np.log( Y) )\n",
    "score=pd.DataFrame(modelo_)\n",
    "score.index=X.columns"
   ]
  },
  {
   "cell_type": "code",
   "execution_count": 17,
   "id": "964e0acc-4187-4f22-8fdc-e1b3ae74a675",
   "metadata": {},
   "outputs": [
    {
     "data": {
      "text/plain": [
       "1585"
      ]
     },
     "execution_count": 17,
     "metadata": {},
     "output_type": "execute_result"
    }
   ],
   "source": [
    "# new_var=list(score.sort_values(0).tail(12).index)\n",
    "# new_var.append(\"periodoC\")\n",
    "# new_var.append(\"periodoG\")\n",
    "formulas=powerset_formulas(var_[3:], \"tm\", 7,13)\n",
    "len(formulas)"
   ]
  },
  {
   "cell_type": "code",
   "execution_count": 18,
   "id": "0c0b1b35-e131-4e19-84f5-80f1038d24d5",
   "metadata": {
    "tags": []
   },
   "outputs": [
    {
     "name": "stderr",
     "output_type": "stream",
     "text": [
      "100%|██████████| 1585/1585 [01:34<00:00, 16.69it/s]\n"
     ]
    }
   ],
   "source": [
    "df_temp=X.copy()\n",
    "df_temp[\"tm\"]=Y[\"tm\"]\n",
    "X_train, X_test, Y_train, Y_test= train_test_split(df_temp,Y,train_size=0.9,random_state=42)\n",
    "list_corr_test=[]\n",
    "list_corr_train=[]\n",
    "for formula_ in tq.tqdm(formulas):\n",
    "    modelo= smf.ols(formula_, data=X_train).fit()\n",
    "    y_train_pred=modelo.predict(X_train)#np.exp(modelo.predict(X_train)+(modelo.scale**2)/2)\n",
    "    y_test_pred=modelo.predict(X_test)#np.exp(modelo.predict(X_test)+(modelo.scale**2)/2)\n",
    "    corr_test=pd.concat([Y_test,y_test_pred ] , axis=1)\n",
    "    corr_test=corr_test.corr(method=\"spearman\").iloc[0,1]\n",
    "    list_corr_test.append(corr_test)\n",
    "    corr_train=pd.concat([Y_train,y_train_pred ] , axis=1)\n",
    "    corr_train=corr_train.corr(method=\"spearman\").iloc[0,1]\n",
    "    list_corr_train.append(corr_train)\n",
    "    "
   ]
  },
  {
   "cell_type": "code",
   "execution_count": 26,
   "id": "c183f80d-fe54-4012-b57d-8cb0c609089f",
   "metadata": {},
   "outputs": [],
   "source": [
    "result=pd.DataFrame({\"formula\":formulas, \"corr_train\":list_corr_train, \"corr_test\": list_corr_test })\n",
    "result[\"error_corr\"]=abs(result[\"corr_train\"]-result[\"corr_test\"])\n",
    "# result.describe()\n",
    "temp=result[(result[\"error_corr\"] <0.03) & (result[\"corr_train\"]>0.28 ) ].sort_values(\"corr_test\")#.tail(10)"
   ]
  },
  {
   "cell_type": "code",
   "execution_count": 34,
   "id": "581b9b15-9b60-4329-8313-008723d90f1e",
   "metadata": {},
   "outputs": [],
   "source": [
    "\n",
    "modelo=smf.ols( \"tm~\"+\"+\".join(list(X_train)[:-1] )  , data=X_train ).fit()"
   ]
  },
  {
   "cell_type": "code",
   "execution_count": 36,
   "id": "69ce5fc0-5bb5-4469-bbcd-5a3c67e6317e",
   "metadata": {
    "collapsed": true,
    "jupyter": {
     "outputs_hidden": true
    },
    "tags": []
   },
   "outputs": [
    {
     "data": {
      "text/html": [
       "<table class=\"simpletable\">\n",
       "<caption>OLS Regression Results</caption>\n",
       "<tr>\n",
       "  <th>Dep. Variable:</th>           <td>tm</td>        <th>  R-squared:         </th> <td>   0.180</td> \n",
       "</tr>\n",
       "<tr>\n",
       "  <th>Model:</th>                   <td>OLS</td>       <th>  Adj. R-squared:    </th> <td>   0.179</td> \n",
       "</tr>\n",
       "<tr>\n",
       "  <th>Method:</th>             <td>Least Squares</td>  <th>  F-statistic:       </th> <td>   249.0</td> \n",
       "</tr>\n",
       "<tr>\n",
       "  <th>Date:</th>             <td>Thu, 01 Dec 2022</td> <th>  Prob (F-statistic):</th>  <td>  0.00</td>  \n",
       "</tr>\n",
       "<tr>\n",
       "  <th>Time:</th>                 <td>19:16:23</td>     <th>  Log-Likelihood:    </th> <td> -95154.</td> \n",
       "</tr>\n",
       "<tr>\n",
       "  <th>No. Observations:</th>      <td> 24992</td>      <th>  AIC:               </th> <td>1.904e+05</td>\n",
       "</tr>\n",
       "<tr>\n",
       "  <th>Df Residuals:</th>          <td> 24969</td>      <th>  BIC:               </th> <td>1.905e+05</td>\n",
       "</tr>\n",
       "<tr>\n",
       "  <th>Df Model:</th>              <td>    22</td>      <th>                     </th>     <td> </td>    \n",
       "</tr>\n",
       "<tr>\n",
       "  <th>Covariance Type:</th>      <td>nonrobust</td>    <th>                     </th>     <td> </td>    \n",
       "</tr>\n",
       "</table>\n",
       "<table class=\"simpletable\">\n",
       "<tr>\n",
       "         <td></td>           <th>coef</th>     <th>std err</th>      <th>t</th>      <th>P>|t|</th>  <th>[0.025</th>    <th>0.975]</th>  \n",
       "</tr>\n",
       "<tr>\n",
       "  <th>Intercept</th>      <td>   71.4530</td> <td>    1.108</td> <td>   64.505</td> <td> 0.000</td> <td>   69.282</td> <td>   73.624</td>\n",
       "</tr>\n",
       "<tr>\n",
       "  <th>pH</th>             <td>    1.1997</td> <td>    0.101</td> <td>   11.858</td> <td> 0.000</td> <td>    1.001</td> <td>    1.398</td>\n",
       "</tr>\n",
       "<tr>\n",
       "  <th>protein_length</th> <td>   -5.3142</td> <td>    0.190</td> <td>  -27.942</td> <td> 0.000</td> <td>   -5.687</td> <td>   -4.941</td>\n",
       "</tr>\n",
       "<tr>\n",
       "  <th>A</th>              <td>    0.0681</td> <td>    0.006</td> <td>   11.059</td> <td> 0.000</td> <td>    0.056</td> <td>    0.080</td>\n",
       "</tr>\n",
       "<tr>\n",
       "  <th>R</th>              <td>    0.0813</td> <td>    0.008</td> <td>   10.643</td> <td> 0.000</td> <td>    0.066</td> <td>    0.096</td>\n",
       "</tr>\n",
       "<tr>\n",
       "  <th>N</th>              <td>    0.0979</td> <td>    0.010</td> <td>   10.268</td> <td> 0.000</td> <td>    0.079</td> <td>    0.117</td>\n",
       "</tr>\n",
       "<tr>\n",
       "  <th>D</th>              <td>   -0.1525</td> <td>    0.009</td> <td>  -17.007</td> <td> 0.000</td> <td>   -0.170</td> <td>   -0.135</td>\n",
       "</tr>\n",
       "<tr>\n",
       "  <th>C</th>              <td>   -0.1044</td> <td>    0.010</td> <td>  -10.393</td> <td> 0.000</td> <td>   -0.124</td> <td>   -0.085</td>\n",
       "</tr>\n",
       "<tr>\n",
       "  <th>E</th>              <td>    0.1158</td> <td>    0.007</td> <td>   17.444</td> <td> 0.000</td> <td>    0.103</td> <td>    0.129</td>\n",
       "</tr>\n",
       "<tr>\n",
       "  <th>Q</th>              <td>   -0.1553</td> <td>    0.007</td> <td>  -23.333</td> <td> 0.000</td> <td>   -0.168</td> <td>   -0.142</td>\n",
       "</tr>\n",
       "<tr>\n",
       "  <th>G</th>              <td>    0.0878</td> <td>    0.006</td> <td>   14.740</td> <td> 0.000</td> <td>    0.076</td> <td>    0.099</td>\n",
       "</tr>\n",
       "<tr>\n",
       "  <th>H</th>              <td>   -0.0847</td> <td>    0.014</td> <td>   -5.928</td> <td> 0.000</td> <td>   -0.113</td> <td>   -0.057</td>\n",
       "</tr>\n",
       "<tr>\n",
       "  <th>I</th>              <td>   -0.0363</td> <td>    0.009</td> <td>   -4.094</td> <td> 0.000</td> <td>   -0.054</td> <td>   -0.019</td>\n",
       "</tr>\n",
       "<tr>\n",
       "  <th>L</th>              <td>    0.0974</td> <td>    0.005</td> <td>   18.844</td> <td> 0.000</td> <td>    0.087</td> <td>    0.108</td>\n",
       "</tr>\n",
       "<tr>\n",
       "  <th>K</th>              <td>   -0.0786</td> <td>    0.007</td> <td>  -11.350</td> <td> 0.000</td> <td>   -0.092</td> <td>   -0.065</td>\n",
       "</tr>\n",
       "<tr>\n",
       "  <th>M</th>              <td>   -0.1622</td> <td>    0.015</td> <td>  -11.110</td> <td> 0.000</td> <td>   -0.191</td> <td>   -0.134</td>\n",
       "</tr>\n",
       "<tr>\n",
       "  <th>F</th>              <td>   -0.1421</td> <td>    0.012</td> <td>  -12.028</td> <td> 0.000</td> <td>   -0.165</td> <td>   -0.119</td>\n",
       "</tr>\n",
       "<tr>\n",
       "  <th>P</th>              <td>    0.0746</td> <td>    0.006</td> <td>   12.450</td> <td> 0.000</td> <td>    0.063</td> <td>    0.086</td>\n",
       "</tr>\n",
       "<tr>\n",
       "  <th>S</th>              <td>   -0.0580</td> <td>    0.006</td> <td>  -10.398</td> <td> 0.000</td> <td>   -0.069</td> <td>   -0.047</td>\n",
       "</tr>\n",
       "<tr>\n",
       "  <th>T</th>              <td>   -0.0932</td> <td>    0.009</td> <td>   -9.951</td> <td> 0.000</td> <td>   -0.112</td> <td>   -0.075</td>\n",
       "</tr>\n",
       "<tr>\n",
       "  <th>W</th>              <td>   -0.0479</td> <td>    0.020</td> <td>   -2.453</td> <td> 0.014</td> <td>   -0.086</td> <td>   -0.010</td>\n",
       "</tr>\n",
       "<tr>\n",
       "  <th>Y</th>              <td>    0.2222</td> <td>    0.013</td> <td>   17.766</td> <td> 0.000</td> <td>    0.198</td> <td>    0.247</td>\n",
       "</tr>\n",
       "<tr>\n",
       "  <th>V</th>              <td>    0.0449</td> <td>    0.009</td> <td>    5.235</td> <td> 0.000</td> <td>    0.028</td> <td>    0.062</td>\n",
       "</tr>\n",
       "</table>\n",
       "<table class=\"simpletable\">\n",
       "<tr>\n",
       "  <th>Omnibus:</th>       <td>3458.726</td> <th>  Durbin-Watson:     </th> <td>   1.999</td>\n",
       "</tr>\n",
       "<tr>\n",
       "  <th>Prob(Omnibus):</th>  <td> 0.000</td>  <th>  Jarque-Bera (JB):  </th> <td>6068.032</td>\n",
       "</tr>\n",
       "<tr>\n",
       "  <th>Skew:</th>           <td> 0.915</td>  <th>  Prob(JB):          </th> <td>    0.00</td>\n",
       "</tr>\n",
       "<tr>\n",
       "  <th>Kurtosis:</th>       <td> 4.574</td>  <th>  Cond. No.          </th> <td>2.46e+03</td>\n",
       "</tr>\n",
       "</table><br/><br/>Notes:<br/>[1] Standard Errors assume that the covariance matrix of the errors is correctly specified.<br/>[2] The condition number is large, 2.46e+03. This might indicate that there are<br/>strong multicollinearity or other numerical problems."
      ],
      "text/plain": [
       "<class 'statsmodels.iolib.summary.Summary'>\n",
       "\"\"\"\n",
       "                            OLS Regression Results                            \n",
       "==============================================================================\n",
       "Dep. Variable:                     tm   R-squared:                       0.180\n",
       "Model:                            OLS   Adj. R-squared:                  0.179\n",
       "Method:                 Least Squares   F-statistic:                     249.0\n",
       "Date:                Thu, 01 Dec 2022   Prob (F-statistic):               0.00\n",
       "Time:                        19:16:23   Log-Likelihood:                -95154.\n",
       "No. Observations:               24992   AIC:                         1.904e+05\n",
       "Df Residuals:                   24969   BIC:                         1.905e+05\n",
       "Df Model:                          22                                         \n",
       "Covariance Type:            nonrobust                                         \n",
       "==================================================================================\n",
       "                     coef    std err          t      P>|t|      [0.025      0.975]\n",
       "----------------------------------------------------------------------------------\n",
       "Intercept         71.4530      1.108     64.505      0.000      69.282      73.624\n",
       "pH                 1.1997      0.101     11.858      0.000       1.001       1.398\n",
       "protein_length    -5.3142      0.190    -27.942      0.000      -5.687      -4.941\n",
       "A                  0.0681      0.006     11.059      0.000       0.056       0.080\n",
       "R                  0.0813      0.008     10.643      0.000       0.066       0.096\n",
       "N                  0.0979      0.010     10.268      0.000       0.079       0.117\n",
       "D                 -0.1525      0.009    -17.007      0.000      -0.170      -0.135\n",
       "C                 -0.1044      0.010    -10.393      0.000      -0.124      -0.085\n",
       "E                  0.1158      0.007     17.444      0.000       0.103       0.129\n",
       "Q                 -0.1553      0.007    -23.333      0.000      -0.168      -0.142\n",
       "G                  0.0878      0.006     14.740      0.000       0.076       0.099\n",
       "H                 -0.0847      0.014     -5.928      0.000      -0.113      -0.057\n",
       "I                 -0.0363      0.009     -4.094      0.000      -0.054      -0.019\n",
       "L                  0.0974      0.005     18.844      0.000       0.087       0.108\n",
       "K                 -0.0786      0.007    -11.350      0.000      -0.092      -0.065\n",
       "M                 -0.1622      0.015    -11.110      0.000      -0.191      -0.134\n",
       "F                 -0.1421      0.012    -12.028      0.000      -0.165      -0.119\n",
       "P                  0.0746      0.006     12.450      0.000       0.063       0.086\n",
       "S                 -0.0580      0.006    -10.398      0.000      -0.069      -0.047\n",
       "T                 -0.0932      0.009     -9.951      0.000      -0.112      -0.075\n",
       "W                 -0.0479      0.020     -2.453      0.014      -0.086      -0.010\n",
       "Y                  0.2222      0.013     17.766      0.000       0.198       0.247\n",
       "V                  0.0449      0.009      5.235      0.000       0.028       0.062\n",
       "==============================================================================\n",
       "Omnibus:                     3458.726   Durbin-Watson:                   1.999\n",
       "Prob(Omnibus):                  0.000   Jarque-Bera (JB):             6068.032\n",
       "Skew:                           0.915   Prob(JB):                         0.00\n",
       "Kurtosis:                       4.574   Cond. No.                     2.46e+03\n",
       "==============================================================================\n",
       "\n",
       "Notes:\n",
       "[1] Standard Errors assume that the covariance matrix of the errors is correctly specified.\n",
       "[2] The condition number is large, 2.46e+03. This might indicate that there are\n",
       "strong multicollinearity or other numerical problems.\n",
       "\"\"\""
      ]
     },
     "execution_count": 36,
     "metadata": {},
     "output_type": "execute_result"
    }
   ],
   "source": [
    "modelo.summary()"
   ]
  },
  {
   "cell_type": "code",
   "execution_count": 72,
   "id": "a1dc0498-9c4c-4e31-9814-922379800f4d",
   "metadata": {},
   "outputs": [],
   "source": [
    "result.to_csv(\"pruebas_modelos_simple.csv\",index=False )\n",
    "# result=pd.read_csv(\"pruebas_modelos.csv\")"
   ]
  },
  {
   "cell_type": "code",
   "execution_count": 80,
   "id": "fcc2f4a5-a561-450d-a1b2-d50e1432bd25",
   "metadata": {},
   "outputs": [],
   "source": [
    "modelo=smf.ols(\"tm~\"+\"+\".join(list(X)), data=X_train).fit()"
   ]
  },
  {
   "cell_type": "code",
   "execution_count": 85,
   "id": "3c8cb730-973e-4891-9e25-5096526624c5",
   "metadata": {},
   "outputs": [
    {
     "data": {
      "text/plain": [
       "Index(['Intercept', 'pH', 'protein_length', 'A', 'R', 'N', 'D', 'C', 'E', 'Q',\n",
       "       ...\n",
       "       'periodoL', 'periodoK', 'periodoM', 'periodoF', 'periodoP', 'periodoS',\n",
       "       'periodoT', 'periodoW', 'periodoY', 'periodoV'],\n",
       "      dtype='object', length=423)"
      ]
     },
     "execution_count": 85,
     "metadata": {},
     "output_type": "execute_result"
    }
   ],
   "source": [
    "(modelo.pvalues<0.05).index"
   ]
  },
  {
   "cell_type": "code",
   "execution_count": null,
   "id": "43d8167f-cd26-49cd-ae15-1776dda2ca49",
   "metadata": {},
   "outputs": [],
   "source": [
    "'np.log(tm)~protein_length+G+AL+KQ+KS+SN+ST+periodoA+periodoC+periodoG'\n"
   ]
  },
  {
   "cell_type": "markdown",
   "id": "aaf1784f-0537-46c4-b30e-f4293957893b",
   "metadata": {},
   "source": [
    "comparaciones"
   ]
  },
  {
   "cell_type": "code",
   "execution_count": 28,
   "id": "fc6d2679-051d-4535-ba83-beb5f3fb2b0b",
   "metadata": {},
   "outputs": [],
   "source": [
    "modelo= smf.ols('tm~Q+C+T+D+F+protein_length+E+Y+V', data=X_train).fit()\n",
    "y_train_pred=modelo.predict(X_train)#np.exp(modelo.predict(X_train)+(modelo.scale**2)/2)\n",
    "y_test_pred=modelo.predict(X_test)#np.exp(modelo.predict(X_test)+(modelo.scale**2)/2)\n",
    "pred_train=pd.concat([Y_train,y_train_pred ] , axis=1)\n",
    "pred_test=pd.concat([Y_test,y_test_pred ] , axis=1)"
   ]
  },
  {
   "cell_type": "code",
   "execution_count": 29,
   "id": "381024cb-819d-4714-bfe8-47f08b19286d",
   "metadata": {},
   "outputs": [
    {
     "data": {
      "image/png": "[encoded data removed]",
      "text/plain": [
       "<Figure size 432x288 with 1 Axes>"
      ]
     },
     "metadata": {
      "needs_background": "light"
     },
     "output_type": "display_data"
    }
   ],
   "source": [
    "plt.scatter(x=pred_test[\"tm\"],y=pred_test[0])\n",
    "abline(1,0)"
   ]
  },
  {
   "cell_type": "code",
   "execution_count": 30,
   "id": "b5f4cdfe-5242-4ae9-b9b7-a4c46b46602a",
   "metadata": {},
   "outputs": [
    {
     "data": {
      "image/png": "[encoded data removed]",
      "text/plain": [
       "<Figure size 432x288 with 1 Axes>"
      ]
     },
     "metadata": {
      "needs_background": "light"
     },
     "output_type": "display_data"
    }
   ],
   "source": [
    "plt.scatter(x=pred_train[\"tm\"],y=pred_train[0])\n",
    "abline(1,0)"
   ]
  },
  {
   "cell_type": "code",
   "execution_count": 18,
   "id": "e4b0b2da-ca25-49d6-9ddb-813b5553daf3",
   "metadata": {},
   "outputs": [
    {
     "name": "stderr",
     "output_type": "stream",
     "text": [
      "100%|██████████| 400/400 [00:01<00:00, 238.13it/s]\n"
     ]
    }
   ],
   "source": [
    "df_test=pd.read_csv(\"test.csv\")\n",
    "df_test['protein_length'] = df_test.protein_sequence.apply(lambda x: len(x))\n",
    "df_test = count_letter(df_test, \"protein_sequence\", list_words)\n",
    "# X=puentes_hidrogeno(X, \"protein_sequence\", \"N\", \"H\")\n",
    "# X=puentes_hidrogeno(X, \"protein_sequence\", \"S\", \"S\")\n",
    "df_test['protein_length'] = np.log(df_test['protein_length'])"
   ]
  },
  {
   "cell_type": "code",
   "execution_count": 39,
   "id": "19e9a382-3d32-4903-bd16-1fa0f6d9f12f",
   "metadata": {},
   "outputs": [
    {
     "data": {
      "text/plain": [
       "XGBRegressor(base_score=0.5, booster='gbtree', callbacks=None,\n",
       "             colsample_bylevel=1, colsample_bynode=1, colsample_bytree=1,\n",
       "             early_stopping_rounds=None, enable_categorical=False,\n",
       "             eval_metric=None, feature_types=None, gamma=0, gpu_id=-1,\n",
       "             grow_policy='depthwise', importance_type=None,\n",
       "             interaction_constraints='', learning_rate=0.05, max_bin=256,\n",
       "             max_cat_threshold=64, max_cat_to_onehot=4, max_delta_step=0,\n",
       "             max_depth=7, max_leaves=0, min_child_weight=1, missing=nan,\n",
       "             monotone_constraints='()', n_estimators=300, n_jobs=0,\n",
       "             num_parallel_tree=1, predictor='auto', random_state=0, ...)"
      ]
     },
     "execution_count": 39,
     "metadata": {},
     "output_type": "execute_result"
    }
   ],
   "source": [
    "from xgboost import XGBRegressor\n",
    "from scipy.stats import spearmanr\n",
    "xgb = XGBRegressor(n_estimators=300,learning_rate=0.05,max_depth=7)\n",
    "xgb.fit(X_train.drop(labels=\"tm\",axis=1),Y_train)"
   ]
  },
  {
   "cell_type": "code",
   "execution_count": 40,
   "id": "c31122f8-e9f8-45af-8483-3cc27afb0ffb",
   "metadata": {},
   "outputs": [],
   "source": [
    "pred_train_xgb=xgb.predict(X_train.drop(labels=\"tm\",axis=1))\n",
    "pred_test_xgb=xgb.predict(X_test.drop(labels=\"tm\",axis=1))\n"
   ]
  },
  {
   "cell_type": "code",
   "execution_count": 46,
   "id": "eafab0d2-8c21-4adc-8a29-b28717c29857",
   "metadata": {},
   "outputs": [
    {
     "data": {
      "text/plain": [
       "array([49.955833, 43.462543, 47.01704 , ..., 48.29365 , 50.661686,\n",
       "       26.501423], dtype=float32)"
      ]
     },
     "execution_count": 46,
     "metadata": {},
     "output_type": "execute_result"
    }
   ],
   "source": [
    "pred_train_xgb"
   ]
  },
  {
   "cell_type": "code",
   "execution_count": 50,
   "id": "34f88162-f167-4d9f-a414-572ee325601d",
   "metadata": {},
   "outputs": [
    {
     "data": {
      "image/png": "[encoded data removed]",
      "text/plain": [
       "<Figure size 432x288 with 1 Axes>"
      ]
     },
     "metadata": {
      "needs_background": "light"
     },
     "output_type": "display_data"
    }
   ],
   "source": [
    "# pred_train_xgb=pd.concat([Y_train,pd.Series(pred_train_xgb) ] , axis=1)\n",
    "# pred_test_xgb=pd.concat([Y_test,pd.Series(pred_test_xgb) ] , axis=1)\n",
    "plt.scatter(x=pred_train_xgb[\"tm\"],y=pred_train_xgb[0])\n",
    "abline(1,0)"
   ]
  },
  {
   "cell_type": "code",
   "execution_count": 43,
   "id": "86f40eb6-528a-431e-93e0-d607f63b582b",
   "metadata": {},
   "outputs": [
    {
     "data": {
      "text/plain": [
       "SpearmanrResult(correlation=0.7480953119923555, pvalue=0.0)"
      ]
     },
     "execution_count": 43,
     "metadata": {},
     "output_type": "execute_result"
    }
   ],
   "source": [
    "spearmanr(pred_train_xgb, Y_train)"
   ]
  },
  {
   "cell_type": "code",
   "execution_count": 95,
   "id": "1f0ceca0-57ff-486f-b0d7-951a449869b8",
   "metadata": {},
   "outputs": [
    {
     "data": {
      "text/plain": [
       "<AxesSubplot:>"
      ]
     },
     "execution_count": 95,
     "metadata": {},
     "output_type": "execute_result"
    },
    {
     "data": {
      "image/png": "[encoded data removed]",
      "text/plain": [
       "<Figure size 432x288 with 1 Axes>"
      ]
     },
     "metadata": {
      "needs_background": "light"
     },
     "output_type": "display_data"
    }
   ],
   "source": [
    "df_train.loc[df_train[\"tm\"]>60,\"tm\"].hist()"
   ]
  },
  {
   "cell_type": "code",
   "execution_count": 20,
   "id": "1814f6da-fb94-4834-a646-1770bc24c748",
   "metadata": {},
   "outputs": [],
   "source": [
    "modelo_final=smf.ols(\"tm~T+D+protein_length+P+AL+C+S+Q\", data=df_temp).fit()\n",
    "y_pred_final=modelo.predict(df_test)\n",
    "submit_2=pd.DataFrame({\"seq_id\":df_test[\"seq_id\"], \"tm\": y_pred_final })"
   ]
  },
  {
   "cell_type": "code",
   "execution_count": 86,
   "id": "f514cd72-e81c-411a-93ed-1dc4f5838bde",
   "metadata": {},
   "outputs": [
    {
     "ename": "NameError",
     "evalue": "name 'x_train' is not defined",
     "output_type": "error",
     "traceback": [
      "\u001b[1;31m---------------------------------------------------------------------------\u001b[0m",
      "\u001b[1;31mNameError\u001b[0m                                 Traceback (most recent call last)",
      "Input \u001b[1;32mIn [86]\u001b[0m, in \u001b[0;36m<cell line: 4>\u001b[1;34m()\u001b[0m\n\u001b[0;32m      2\u001b[0m \u001b[38;5;28;01mfrom\u001b[39;00m \u001b[38;5;21;01mscipy\u001b[39;00m\u001b[38;5;21;01m.\u001b[39;00m\u001b[38;5;21;01mstats\u001b[39;00m \u001b[38;5;28;01mimport\u001b[39;00m spearmanr\n\u001b[0;32m      3\u001b[0m xgb \u001b[38;5;241m=\u001b[39m XGBRegressor(n_estimators\u001b[38;5;241m=\u001b[39m\u001b[38;5;241m300\u001b[39m,learning_rate\u001b[38;5;241m=\u001b[39m\u001b[38;5;241m0.05\u001b[39m,max_depth\u001b[38;5;241m=\u001b[39m\u001b[38;5;241m7\u001b[39m)\n\u001b[1;32m----> 4\u001b[0m xgb\u001b[38;5;241m.\u001b[39mfit(\u001b[43mx_train\u001b[49m,y_train)\n\u001b[0;32m      5\u001b[0m pred \u001b[38;5;241m=\u001b[39m xgb\u001b[38;5;241m.\u001b[39mpredict(x_test)\n",
      "\u001b[1;31mNameError\u001b[0m: name 'x_train' is not defined"
     ]
    }
   ],
   "source": [
    "from xgboost import XGBRegressor\n",
    "from scipy.stats import spearmanr\n",
    "xgb = XGBRegressor(n_estimators=300,learning_rate=0.05,max_depth=7)\n",
    "xgb.fit(x_train,y_train)\n",
    "pred = xgb.predict(x_test)"
   ]
  },
  {
   "cell_type": "code",
   "execution_count": 29,
   "id": "96458963-f0af-4268-b569-6605836241c7",
   "metadata": {},
   "outputs": [
    {
     "data": {
      "text/plain": [
       "<AxesSubplot:>"
      ]
     },
     "execution_count": 29,
     "metadata": {},
     "output_type": "execute_result"
    },
    {
     "data": {
      "image/png": "[encoded data removed]",
      "text/plain": [
       "<Figure size 432x288 with 1 Axes>"
      ]
     },
     "metadata": {
      "needs_background": "light"
     },
     "output_type": "display_data"
    }
   ],
   "source": [
    "submit_2.tm.hist()#.to_csv(\"submit2.csv\",index=False)"
   ]
  },
  {
   "cell_type": "code",
   "execution_count": 30,
   "id": "d3e085fa-d4d5-489e-adfc-4b3e4e54ef0d",
   "metadata": {},
   "outputs": [
    {
     "name": "stdout",
     "output_type": "stream",
     "text": [
      "Collecting xgboost\n",
      "  Downloading xgboost-1.7.1-py3-none-win_amd64.whl (89.1 MB)\n",
      "Requirement already satisfied: scipy in c:\\programdata\\anaconda3\\lib\\site-packages (from xgboost) (1.7.3)\n",
      "Requirement already satisfied: numpy in c:\\programdata\\anaconda3\\lib\\site-packages (from xgboost) (1.21.5)\n",
      "Installing collected packages: xgboost\n",
      "Successfully installed xgboost-1.7.1\n"
     ]
    }
   ],
   "source": [
    "!pip install xgboost"
   ]
  },
  {
   "cell_type": "code",
   "execution_count": 94,
   "id": "2593f26a-cfa3-4f88-8a56-9d1209001b37",
   "metadata": {},
   "outputs": [
    {
     "data": {
      "image/png": "[encoded data removed]",
      "text/plain": [
       "<Figure size 432x288 with 1 Axes>"
      ]
     },
     "metadata": {
      "needs_background": "light"
     },
     "output_type": "display_data"
    }
   ],
   "source": [
    "plt.scatter(x=pred_train_xgbr[\"tm\"],y=pred_train_xgbr[0])\n",
    "abline(1,0)"
   ]
  },
  {
   "cell_type": "code",
   "execution_count": 101,
   "id": "b5a4c478-d445-4e8c-be76-1434ec9850b8",
   "metadata": {},
   "outputs": [
    {
     "data": {
      "text/plain": [
       "-0.0022205324073104942"
      ]
     },
     "execution_count": 101,
     "metadata": {},
     "output_type": "execute_result"
    }
   ],
   "source": [
    "pred_train_xgbr.corr(method=\"spearman\").iloc[0,1]"
   ]
  },
  {
   "cell_type": "code",
   "execution_count": 88,
   "id": "fa55fa05-f660-4371-8e35-cb2d043930ba",
   "metadata": {},
   "outputs": [
    {
     "data": {
      "image/png": "[encoded data removed]",
      "text/plain": [
       "<Figure size 432x288 with 1 Axes>"
      ]
     },
     "metadata": {
      "needs_background": "light"
     },
     "output_type": "display_data"
    }
   ],
   "source": [
    "plt.scatter(x=pred_test_xgbr[\"tm\"],y=pred_test_xgbr[0])\n",
    "abline(1,0)"
   ]
  },
  {
   "cell_type": "code",
   "execution_count": null,
   "id": "b3612c23-a80a-4a5a-9d85-9f028b2fda7a",
   "metadata": {},
   "outputs": [],
   "source": [
    "\n",
    "import pandas as pd\n",
    "colspecs = [(0, 6), (6, 11), (12, 16), (16, 17), (17, 20), (21, 22), (22, 26),\n",
    "            (26, 27), (30, 38), (38, 46), (46, 54), (54, 60), (60, 66), (76, 78),\n",
    "            (78, 80)]\n",
    "\n",
    "names = ['ATOM', 'serial', 'name', 'altloc', 'resname', 'chainid', 'resseq',\n",
    "         'icode', 'x', 'y', 'z', 'occupancy', 'tempfactor', 'element', 'charge']\n",
    "\n",
    "pdb = pd.read_fwf(\"wildtype_structure_prediction_af2.pdb\", names=names, colspecs=colspecs)"
   ]
  },
  {
   "cell_type": "markdown",
   "id": "268a4854-7575-429f-abc4-929f713ed8ee",
   "metadata": {},
   "source": [
    "Como resultado para el desarrollo del modelo se tiene 28,695 proteinas."
   ]
  }
 ],
 "metadata": {
  "kernelspec": {
   "display_name": "Python 3 (ipykernel)",
   "language": "python",
   "name": "python3"
  },
  "language_info": {
   "codemirror_mode": {
    "name": "ipython",
    "version": 3
   },
   "file_extension": ".py",
   "mimetype": "text/x-python",
   "name": "python",
   "nbconvert_exporter": "python",
   "pygments_lexer": "ipython3",
   "version": "3.9.12"
  },
  "toc-autonumbering": true,
  "toc-showcode": true,
  "toc-showmarkdowntxt": true
 },
 "nbformat": 4,
 "nbformat_minor": 5
}
