{
 "cells": [
  {
   "cell_type": "markdown",
   "id": "c8fcdfd8-c46b-493e-ac42-9496aa1948d3",
   "metadata": {},
   "source": [
    "# Integrantes:\n",
    "\n",
    "* Germán Alonso Patiño Hurtado\n",
    "\n",
    "* David Garcia Blandon\n",
    "\n",
    "* David Andres Cano Gonzales\n",
    "\n",
    "* Juan Pablo Buitrago Díaz \n",
    "\n",
    "# Objetivo de la competición\n",
    "\n",
    "Las enzimas son proteínas que actúan como catalizadores en las reacciones químicas de los organismos vivos. El objetivo de esta competencia es predecir la termoestabilidad de las variantes enzimáticas.\n",
    "\n",
    "## Librerias"
   ]
  },
  {
   "cell_type": "code",
   "execution_count": 2,
   "id": "529498c2-64fe-4131-b909-63e232e0b923",
   "metadata": {},
   "outputs": [],
   "source": [
    "# !pip install xgboost\n",
    "import pandas as pd\n",
    "import numpy as np\n",
    "from sklearn.model_selection import train_test_split\n",
    "from sklearn.preprocessing import LabelEncoder\n",
    "from sklearn.preprocessing import OrdinalEncoder\n",
    "from itertools import chain, combinations, permutations\n",
    "import sklearn.decomposition\n",
    "import statsmodels.formula.api as smf\n",
    "import tqdm as tq\n",
    "# import xgboost as xgb\n",
    "import matplotlib.pyplot as plt\n",
    "import plotly.express as px\n",
    "import sklearn.feature_selection\n",
    "from xgboost import XGBRegressor\n",
    "from scipy.stats import spearmanr\n",
    "\n",
    "def abline(slope, intercept):\n",
    "    \"\"\"Plot a line from slope and intercept\"\"\"\n",
    "    axes = plt.gca()\n",
    "    x_vals = np.array(axes.get_xlim())\n",
    "    y_vals = intercept + slope * x_vals\n",
    "    plt.plot(x_vals, y_vals)"
   ]
  },
  {
   "cell_type": "code",
   "execution_count": 3,
   "id": "7484cdcf-a52a-4d6e-a06c-d4714f597568",
   "metadata": {},
   "outputs": [
    {
     "data": {
      "text/plain": [
       "400"
      ]
     },
     "execution_count": 3,
     "metadata": {},
     "output_type": "execute_result"
    }
   ],
   "source": [
    "import matplotlib.pyplot as plt\n",
    "def abline(slope, intercept):\n",
    "    \"\"\"Plot a line from slope and intercept\"\"\"\n",
    "    axes = plt.gca()\n",
    "    x_vals = np.array(axes.get_xlim())\n",
    "    y_vals = intercept + slope * x_vals\n",
    "    plt.plot(x_vals, y_vals)\n",
    "\n",
    "    \n",
    "# def periodo_letter(texto_:str, letter:str):\n",
    "#     df_prueba=(pd.Series(list(texto_)))#.index\n",
    "#     indices=df_prueba[df_prueba==letter].index\n",
    "#     if len(indices)>2:\n",
    "#         periodo=indices[1:]-indices[:-1]\n",
    "#         periodo=sum(periodo)//len(periodo)\n",
    "#     else:\n",
    "#         periodo=0\n",
    "#     return periodo\n",
    "\n",
    "# def letter_periodo(df_:pd.DataFrame, column_:str,list_letter:list):\n",
    "    \n",
    "#     for letter in tq.tqdm(list_letter):\n",
    "#         var_temp=df_[column_].apply(lambda x: periodo_letter(x, letter) ) \n",
    "#         df_ = pd.concat([df_, var_temp.rename(\"periodo\"+letter)], axis=1)\n",
    "    \n",
    "#     return df_\n",
    "\n",
    "def powerset_formulas(variables:list, response:str,left_,right_):\n",
    "    \"\"\"\n",
    "    Genera la combinacion de formulas posibles de las variables hacia la variable respuesta\n",
    "    para un modelo lm\n",
    "    powerset([1,2,3]) --> () (1,) (2,) (3,) (1,2) (1,3) (2,3) (1,2,3)\n",
    "    variables: list de str.\n",
    "    response: la variable respuesta en funcion de variables.\n",
    "    return: list de formulas posibles con las variables.\n",
    "    \"\"\"\n",
    "    comb_=list(chain.from_iterable(combinations(variables, r) for r in range(left_,right_+1  )))\n",
    "    formulas=[response+\"~\"+\"+\".join(list(comb_[i])) for i in range(1,len(comb_))]\n",
    "    return formulas\n",
    "\n",
    "def count_letter(df_: pd.DataFrame, column_: str, list_letter:list):\n",
    "    \"\"\"\n",
    "    \n",
    "    \"\"\"\n",
    "    column_len=len(list(df_))\n",
    "    for letter in tq.tqdm(list_letter):\n",
    "        var_temp=(df_[column_].str.count(letter))#/df_[\"protein_length\"]).copy() \n",
    "        df_ = pd.concat([df_, var_temp.rename(letter)], axis=1)\n",
    "    return df_\n",
    "\n",
    "def powerset(iterable):\n",
    "    s = (iterable)\n",
    "    return list(chain.from_iterable(permutations(s, r) for r in range(3)))\n",
    "\n",
    "# def count_puentes(text_:str, pos1:str,pos2:str):\n",
    "#     \"\"\"\n",
    "    \n",
    "#     \"\"\"\n",
    "\n",
    "#     frecuencia=0\n",
    "#     list_texto=list(text_)\n",
    "#     for distancia in [4,5]:\n",
    "#         posicion_1 =pd.Series(list_texto[distancia:],dtype=\"str\" )\n",
    "#         posicion_2= pd.Series(list_texto[:-distancia ],dtype=\"str\")        \n",
    "#         frecuencia=frecuencia+ sum(((posicion_1==pos1)  & (posicion_2==pos2) ) )\n",
    "    \n",
    "#     return frecuencia/len(text_)\n",
    "\n",
    "# def puentes_hidrogeno(df_:pd.DataFrame,column_:str,posiciones_1:str, posiciones_2:str  ):\n",
    "#     \"\"\"\n",
    "#     \"\"\"\n",
    "#     for posicion1 in posiciones_1:\n",
    "#         for posicion2 in posiciones_2:\n",
    "#             df_temp=df_[column_].apply(lambda x: count_puentes(x,posicion1,posicion2 ) ).copy()\n",
    "#             df_=pd.concat([df_ , df_temp.rename(posicion1+\"-\"+posicion2)],axis=1)\n",
    "#     return df_\n",
    "    \n",
    "list_letter=list(\"ARNDCEQGHILKMFPSTWYV\")\n",
    "list_words=[\"\".join(list(x)) for x in powerset(list_letter)[1:]]\n",
    "len(set(list_words))    \n",
    "\n"
   ]
  },
  {
   "cell_type": "markdown",
   "id": "5ca15030-d887-4f8a-8e7a-7c145216eac2",
   "metadata": {},
   "source": [
    "# Lectura de datos\n",
    "\n",
    "En la descripción de la competencia se dan varias definciones de las base de datos que se tienen.\n",
    "\n",
    "Como primer paso se realizara una limipeza de datos que se encuentra referencia:\n",
    "\n",
    "https://www.kaggle.com/competitions/novozymes-enzyme-stability-prediction/discussion/356251\n",
    "\n",
    "\n",
    "En ella se menciona que train.csv tiene problemas de datos faltantes y que no se a modificado, donde el train_updates_20220929.csv se usa para depurar la información.\n"
   ]
  },
  {
   "cell_type": "code",
   "execution_count": 4,
   "id": "f2ea9e5b-a04b-4ead-87ca-8025cb19535d",
   "metadata": {},
   "outputs": [],
   "source": [
    "df_train = pd.read_csv('train.csv',index_col=\"seq_id\")\n",
    "df_train_updates = pd.read_csv(\"train_updates_20220929.csv\",index_col=\"seq_id\")\n",
    "filtro=df_train_updates.isnull().all(\"columns\")\n",
    "all_features_nan = (df_train_updates[filtro].index)\n",
    "df_train=df_train.loc[~df_train.index.isin(list(all_features_nan))  ]\n",
    "swap_ph_tm_indices = df_train_updates[~filtro].index\n",
    "df_train.loc[swap_ph_tm_indices , [\"pH\", \"tm\"] ]=df_train_updates.loc[swap_ph_tm_indices , [\"pH\", \"tm\"] ]\n",
    "df_train=df_train.loc[~df_train[\"pH\"].isna(), ]\n",
    "\n",
    "# temp = df_train_updates[df_train_updates[\"pH\"] > -0.1]\n",
    "# for i in range(len(temp)):\n",
    "#     df_train[df_train.seq_id == temp.iloc[i].seq_id] = temp.iloc[i]\n",
    "\n",
    "# df_train[['pH','tm']] = df_train[['tm','pH']].where(df_train['pH'] > 14, df_train[['pH','tm']].values)\n",
    "# df_train.dropna(inplace=True)"
   ]
  },
  {
   "cell_type": "code",
   "execution_count": 5,
   "id": "86c958aa-97ad-4a24-bc43-fe14a7b80a60",
   "metadata": {},
   "outputs": [
    {
     "data": {
      "text/plain": [
       "(28695, 4)"
      ]
     },
     "execution_count": 5,
     "metadata": {},
     "output_type": "execute_result"
    }
   ],
   "source": [
    "df_train.shape"
   ]
  },
  {
   "cell_type": "markdown",
   "id": "982e921d-7fa5-4cda-9cbc-3d3b90852d0f",
   "metadata": {},
   "source": [
    "- El modelo se entrenara con 2,8695 proteinas."
   ]
  },
  {
   "cell_type": "code",
   "execution_count": 6,
   "id": "9599db57-7986-40ba-a796-ed212edbb91c",
   "metadata": {},
   "outputs": [
    {
     "data": {
      "text/html": [
       "<div>\n",
       "<style scoped>\n",
       "    .dataframe tbody tr th:only-of-type {\n",
       "        vertical-align: middle;\n",
       "    }\n",
       "\n",
       "    .dataframe tbody tr th {\n",
       "        vertical-align: top;\n",
       "    }\n",
       "\n",
       "    .dataframe thead th {\n",
       "        text-align: right;\n",
       "    }\n",
       "</style>\n",
       "<table border=\"1\" class=\"dataframe\">\n",
       "  <thead>\n",
       "    <tr style=\"text-align: right;\">\n",
       "      <th></th>\n",
       "      <th>protein_sequence</th>\n",
       "      <th>pH</th>\n",
       "      <th>data_source</th>\n",
       "      <th>tm</th>\n",
       "    </tr>\n",
       "    <tr>\n",
       "      <th>seq_id</th>\n",
       "      <th></th>\n",
       "      <th></th>\n",
       "      <th></th>\n",
       "      <th></th>\n",
       "    </tr>\n",
       "  </thead>\n",
       "  <tbody>\n",
       "    <tr>\n",
       "      <th>0</th>\n",
       "      <td>AAAAKAAALALLGEAPEVVDIWLPAGWRQPFRVFRLERKGDGVLVG...</td>\n",
       "      <td>7.0</td>\n",
       "      <td>doi.org/10.1038/s41592-020-0801-4</td>\n",
       "      <td>75.7</td>\n",
       "    </tr>\n",
       "    <tr>\n",
       "      <th>1</th>\n",
       "      <td>AAADGEPLHNEEERAGAGQVGRSLPQESEEQRTGSRPRRRRDLGSR...</td>\n",
       "      <td>7.0</td>\n",
       "      <td>doi.org/10.1038/s41592-020-0801-4</td>\n",
       "      <td>50.5</td>\n",
       "    </tr>\n",
       "    <tr>\n",
       "      <th>2</th>\n",
       "      <td>AAAFSTPRATSYRILSSAGSGSTRADAPQVRRLHTTRDLLAKDYYA...</td>\n",
       "      <td>7.0</td>\n",
       "      <td>doi.org/10.1038/s41592-020-0801-4</td>\n",
       "      <td>40.5</td>\n",
       "    </tr>\n",
       "    <tr>\n",
       "      <th>3</th>\n",
       "      <td>AAASGLRTAIPAQPLRHLLQPAPRPCLRPFGLLSVRAGSARRSGLL...</td>\n",
       "      <td>7.0</td>\n",
       "      <td>doi.org/10.1038/s41592-020-0801-4</td>\n",
       "      <td>47.2</td>\n",
       "    </tr>\n",
       "    <tr>\n",
       "      <th>4</th>\n",
       "      <td>AAATKSGPRRQSQGASVRTFTPFYFLVEPVDTLSVRGSSVILNCSA...</td>\n",
       "      <td>7.0</td>\n",
       "      <td>doi.org/10.1038/s41592-020-0801-4</td>\n",
       "      <td>49.5</td>\n",
       "    </tr>\n",
       "  </tbody>\n",
       "</table>\n",
       "</div>"
      ],
      "text/plain": [
       "                                         protein_sequence   pH  \\\n",
       "seq_id                                                           \n",
       "0       AAAAKAAALALLGEAPEVVDIWLPAGWRQPFRVFRLERKGDGVLVG...  7.0   \n",
       "1       AAADGEPLHNEEERAGAGQVGRSLPQESEEQRTGSRPRRRRDLGSR...  7.0   \n",
       "2       AAAFSTPRATSYRILSSAGSGSTRADAPQVRRLHTTRDLLAKDYYA...  7.0   \n",
       "3       AAASGLRTAIPAQPLRHLLQPAPRPCLRPFGLLSVRAGSARRSGLL...  7.0   \n",
       "4       AAATKSGPRRQSQGASVRTFTPFYFLVEPVDTLSVRGSSVILNCSA...  7.0   \n",
       "\n",
       "                              data_source    tm  \n",
       "seq_id                                           \n",
       "0       doi.org/10.1038/s41592-020-0801-4  75.7  \n",
       "1       doi.org/10.1038/s41592-020-0801-4  50.5  \n",
       "2       doi.org/10.1038/s41592-020-0801-4  40.5  \n",
       "3       doi.org/10.1038/s41592-020-0801-4  47.2  \n",
       "4       doi.org/10.1038/s41592-020-0801-4  49.5  "
      ]
     },
     "execution_count": 6,
     "metadata": {},
     "output_type": "execute_result"
    }
   ],
   "source": [
    "df_train.head()"
   ]
  },
  {
   "cell_type": "markdown",
   "id": "c00ade45-1fd0-46e5-a9be-17644a9f0ca6",
   "metadata": {},
   "source": [
    "- Las proteinas tienen un id (seq_id), una secuencia de enzimas, el pH, su termoestabilidad y la fuente de información.\n",
    "\n",
    "- Para el modelo no se necesita la fuente de los datos, el objetivo es tm en funcion de la protein_sequence y pH.\n",
    "\n",
    "- Existen 20 enzimas: A,R,N,D,C,E,Q,G,H,I,L,K,M,F,P,S,T,W,Y,V.\n",
    "\n",
    "- Creamos el conteneo de enzimas en cada proteina.\n",
    "\n",
    "- También se cuenta la cantidad de pares de enzimas, por ejemplo AR la frecuencia con que se repite, el nombre de las columnas son las letras y cada fila es la frecuencia en su propia frecuencia.\n",
    "\n",
    "- Esto genera un total de 400 variables posibles adicionando el pH para predecir tm."
   ]
  },
  {
   "cell_type": "code",
   "execution_count": 7,
   "id": "86a046d1-908c-44c4-b813-4b51914afac3",
   "metadata": {
    "tags": []
   },
   "outputs": [
    {
     "name": "stderr",
     "output_type": "stream",
     "text": [
      "100%|██████████| 400/400 [00:20<00:00, 19.13it/s]\n"
     ]
    }
   ],
   "source": [
    "X = df_train[[\"tm\",'protein_sequence', 'pH']].copy()\n",
    "X['protein_length'] = X.protein_sequence.apply(lambda x: len(x))\n",
    "X = count_letter(X, \"protein_sequence\",list_words)\n",
    "X['protein_length'] = np.log(X['protein_length'])\n",
    "X=X.drop(labels=\"protein_sequence\",axis=1).copy()"
   ]
  },
  {
   "cell_type": "markdown",
   "id": "5d4720c4-2759-4791-b869-56df74e4bd01",
   "metadata": {},
   "source": [
    "La metodología de selección en el concurso es con la correlación de spearman entre las termoestabilidad real vs la predica, es decir, entre mas alto es mejor la predicción.\n",
    "\n",
    "Se identifica las variable que puedan predecir tm a partir de la correlación \n",
    "\n"
   ]
  },
  {
   "cell_type": "code",
   "execution_count": 8,
   "id": "daf5d634-461e-413a-a198-cd33f591e285",
   "metadata": {},
   "outputs": [
    {
     "data": {
      "text/plain": [
       "<AxesSubplot:>"
      ]
     },
     "execution_count": 8,
     "metadata": {},
     "output_type": "execute_result"
    },
    {
     "data": {
      "image/png": "[encoded data removed]",
      "text/plain": [
       "<Figure size 432x288 with 1 Axes>"
      ]
     },
     "metadata": {
      "needs_background": "light"
     },
     "output_type": "display_data"
    }
   ],
   "source": [
    "X[\"tm\"].hist()"
   ]
  },
  {
   "cell_type": "markdown",
   "id": "7c839354-9bc0-47b2-82b6-c8b7b9cc3168",
   "metadata": {},
   "source": [
    "Podemos  observar la distribución de tm donde no hay una simetría, luego de transformar a escala log."
   ]
  },
  {
   "cell_type": "code",
   "execution_count": 9,
   "id": "4238e374-a056-4c44-b362-2dec903243ba",
   "metadata": {},
   "outputs": [
    {
     "data": {
      "text/plain": [
       "<AxesSubplot:>"
      ]
     },
     "execution_count": 9,
     "metadata": {},
     "output_type": "execute_result"
    },
    {
     "data": {
      "image/png": "[encoded data removed]",
      "text/plain": [
       "<Figure size 432x288 with 1 Axes>"
      ]
     },
     "metadata": {
      "needs_background": "light"
     },
     "output_type": "display_data"
    }
   ],
   "source": [
    "pd.Series(np.log(X[\"tm\"]+2)).hist()"
   ]
  },
  {
   "cell_type": "markdown",
   "id": "5909b868-27f7-4e1f-b13d-6dd8d9b9af49",
   "metadata": {},
   "source": [
    "Se puede observar una mejor simetría en la variable respuesto, esto indica que puede ser una transformación apropiada, se crea la variable a escala log."
   ]
  },
  {
   "cell_type": "code",
   "execution_count": 12,
   "id": "6d84cb8c-653b-477d-965a-34076a146a86",
   "metadata": {},
   "outputs": [],
   "source": [
    "X[\"tm_log\"]=np.log(X[\"tm\"])\n",
    "cor_temp=X.corr()\n",
    "cor_temp_s=X.corr(method=\"spearman\" )"
   ]
  },
  {
   "cell_type": "code",
   "execution_count": 20,
   "id": "b7d80418-c561-4250-a80c-1821c6820651",
   "metadata": {},
   "outputs": [
    {
     "data": {
      "text/plain": [
       "[<matplotlib.lines.Line2D at 0x2af25c98160>]"
      ]
     },
     "execution_count": 20,
     "metadata": {},
     "output_type": "execute_result"
    },
    {
     "data": {
      "image/png": "[encoded data removed]",
      "text/plain": [
       "<Figure size 432x288 with 2 Axes>"
      ]
     },
     "metadata": {
      "needs_background": "light"
     },
     "output_type": "display_data"
    }
   ],
   "source": [
    "fig, (ax1, ax2) = plt.subplots(1, 2)\n",
    "fig.suptitle(\"Correlación tm_log ~ variables\")\n",
    "corr_tm=cor_temp.loc[\"tm\",].iloc[1:-1]\n",
    "ax1.plot(corr_tm) \n",
    "corr_tm_s=cor_temp_s.loc[\"tm\",].iloc[1:-1]\n",
    "ax2.plot(corr_tm_s)"
   ]
  },
  {
   "cell_type": "code",
   "execution_count": 19,
   "id": "20412ba4-7ba2-45c8-a801-3eb83da1fc9f",
   "metadata": {},
   "outputs": [
    {
     "data": {
      "text/plain": [
       "[<matplotlib.lines.Line2D at 0x2af24d303d0>]"
      ]
     },
     "execution_count": 19,
     "metadata": {},
     "output_type": "execute_result"
    },
    {
     "data": {
      "image/png": "[encoded data removed]",
      "text/plain": [
       "<Figure size 432x288 with 2 Axes>"
      ]
     },
     "metadata": {
      "needs_background": "light"
     },
     "output_type": "display_data"
    }
   ],
   "source": [
    "fig, (ax1, ax2) = plt.subplots(1, 2)\n",
    "fig.suptitle(\"Correlación tm_log ~ variables\")\n",
    "corr_tm_log=cor_temp.loc[\"tm_log\",].iloc[1:-1]\n",
    "ax1.plot(corr_tm_log) \n",
    "corr_tm_s_log=cor_temp_s.loc[\"tm_log\",].iloc[1:-1]\n",
    "ax2.plot(corr_tm_s_log) "
   ]
  },
  {
   "cell_type": "markdown",
   "id": "7f48ffc0-6e96-4837-983f-6a31fcc7913e",
   "metadata": {},
   "source": [
    "Para este caso se observa que las variables seleccionadas no alcanzan una alta con los dos metodos de correlación entre variables, por ende se opta por varios criterios de selección, donde hay correlación negatvia que parece ser <-0.2, este es una corte de referencia esto ocurre con la correlación de spearmen"
   ]
  },
  {
   "cell_type": "code",
   "execution_count": 31,
   "id": "34cec4ee-bf31-4cfe-9aa1-c33d9e48eed0",
   "metadata": {},
   "outputs": [
    {
     "data": {
      "text/plain": [
       "Index(['ST', 'KL', 'KS', 'I', 'D', 'T', 'C', 'SK', 'Q', 'S', 'N', 'K'], dtype='object')"
      ]
     },
     "execution_count": 31,
     "metadata": {},
     "output_type": "execute_result"
    }
   ],
   "source": [
    "(corr_tm_s[abs(corr_tm_s)>0.2].sort_values(ascending=False).index)"
   ]
  },
  {
   "cell_type": "code",
   "execution_count": 25,
   "id": "e3268e65-8441-436b-b11f-f85adeb41ac6",
   "metadata": {},
   "outputs": [
    {
     "data": {
      "text/plain": [
       "Index(['C', 'Q', 'ST', 'I', 'T', 'D', 'KL', 'S', 'KS', 'K', 'SK', 'N'], dtype='object')"
      ]
     },
     "execution_count": 25,
     "metadata": {},
     "output_type": "execute_result"
    }
   ],
   "source": [
    "corr_tm[abs(corr_tm_s_log)>0.2].sort_values(ascending=False).index"
   ]
  },
  {
   "cell_type": "markdown",
   "id": "b04e6f38-13e4-4873-a860-02556d47edff",
   "metadata": {},
   "source": [
    "Para este caso estas son unas posibles variables para tm.\n",
    "- Otro metodo que se usara con la libreria sklearn, donde obtendremos un score de todas las variables. "
   ]
  },
  {
   "cell_type": "code",
   "execution_count": 36,
   "id": "2e426820-7899-4cdf-9ae3-31b277fd80cc",
   "metadata": {
    "tags": []
   },
   "outputs": [],
   "source": [
    "\n",
    "modelo_=sklearn.feature_selection.mutual_info_regression( X.drop(labels=[\"tm\", \"tm_log\"],axis=1) ,X[\"tm\"] )\n",
    "score=pd.DataFrame(modelo_)\n",
    "score.index=X.drop(labels=[\"tm\", \"tm_log\"],axis=1).columns"
   ]
  },
  {
   "cell_type": "code",
   "execution_count": 41,
   "id": "53d31512-7adc-4c95-babb-808c36eb1536",
   "metadata": {},
   "outputs": [
    {
     "data": {
      "text/html": [
       "<div>\n",
       "<style scoped>\n",
       "    .dataframe tbody tr th:only-of-type {\n",
       "        vertical-align: middle;\n",
       "    }\n",
       "\n",
       "    .dataframe tbody tr th {\n",
       "        vertical-align: top;\n",
       "    }\n",
       "\n",
       "    .dataframe thead th {\n",
       "        text-align: right;\n",
       "    }\n",
       "</style>\n",
       "<table border=\"1\" class=\"dataframe\">\n",
       "  <thead>\n",
       "    <tr style=\"text-align: right;\">\n",
       "      <th></th>\n",
       "      <th>0</th>\n",
       "    </tr>\n",
       "  </thead>\n",
       "  <tbody>\n",
       "    <tr>\n",
       "      <th>protein_length</th>\n",
       "      <td>0.171655</td>\n",
       "    </tr>\n",
       "    <tr>\n",
       "      <th>pH</th>\n",
       "      <td>0.163166</td>\n",
       "    </tr>\n",
       "    <tr>\n",
       "      <th>S</th>\n",
       "      <td>0.135781</td>\n",
       "    </tr>\n",
       "    <tr>\n",
       "      <th>Q</th>\n",
       "      <td>0.128594</td>\n",
       "    </tr>\n",
       "    <tr>\n",
       "      <th>K</th>\n",
       "      <td>0.118098</td>\n",
       "    </tr>\n",
       "    <tr>\n",
       "      <th>I</th>\n",
       "      <td>0.115317</td>\n",
       "    </tr>\n",
       "    <tr>\n",
       "      <th>N</th>\n",
       "      <td>0.110004</td>\n",
       "    </tr>\n",
       "    <tr>\n",
       "      <th>C</th>\n",
       "      <td>0.107492</td>\n",
       "    </tr>\n",
       "    <tr>\n",
       "      <th>E</th>\n",
       "      <td>0.107231</td>\n",
       "    </tr>\n",
       "    <tr>\n",
       "      <th>D</th>\n",
       "      <td>0.105582</td>\n",
       "    </tr>\n",
       "  </tbody>\n",
       "</table>\n",
       "</div>"
      ],
      "text/plain": [
       "                       0\n",
       "protein_length  0.171655\n",
       "pH              0.163166\n",
       "S               0.135781\n",
       "Q               0.128594\n",
       "K               0.118098\n",
       "I               0.115317\n",
       "N               0.110004\n",
       "C               0.107492\n",
       "E               0.107231\n",
       "D               0.105582"
      ]
     },
     "execution_count": 41,
     "metadata": {},
     "output_type": "execute_result"
    }
   ],
   "source": [
    "score.sort_values(0,ascending=False ).head(10)"
   ]
  },
  {
   "cell_type": "code",
   "execution_count": 42,
   "id": "fec0eeed-776a-49b3-82e5-227aa8aa7f2f",
   "metadata": {},
   "outputs": [
    {
     "data": {
      "text/plain": [
       "Index(['protein_length', 'pH', 'S', 'Q', 'K', 'I', 'N', 'C', 'E', 'D'], dtype='object')"
      ]
     },
     "execution_count": 42,
     "metadata": {},
     "output_type": "execute_result"
    }
   ],
   "source": [
    "score.sort_values(0,ascending=False ).head(10).index"
   ]
  },
  {
   "cell_type": "markdown",
   "id": "15fa0550-9ff5-4f50-a721-d549b76bfb01",
   "metadata": {},
   "source": [
    "Por medio de este metodo se escogen estas posibles variables que pueden explicar a tm."
   ]
  },
  {
   "cell_type": "code",
   "execution_count": 46,
   "id": "964e0acc-4187-4f22-8fdc-e1b3ae74a675",
   "metadata": {},
   "outputs": [
    {
     "data": {
      "text/plain": [
       "array(['KL', 'T', 'E', 'protein_length', 'S', 'I', 'pH', 'D', 'SK', 'KS',\n",
       "       'ST', 'K', 'N', 'C', 'Q'], dtype='<U14')"
      ]
     },
     "execution_count": 46,
     "metadata": {},
     "output_type": "execute_result"
    }
   ],
   "source": [
    "variables_candidatas=['protein_length', 'pH', 'S', 'Q', 'K', 'I', 'N', 'C', 'E', 'D','ST', \n",
    "                      'KL', 'KS', 'I', 'D', 'T', 'C', 'SK', 'Q', 'S', 'N', 'K']\n",
    "variables_candidatas=list(set(variables_candidatas))\n",
    "np.array(variables_candidatas)"
   ]
  },
  {
   "cell_type": "code",
   "execution_count": 48,
   "id": "8b30a3ea-4265-457f-b4a6-c8ac90f95e20",
   "metadata": {},
   "outputs": [
    {
     "data": {
      "text/plain": [
       "15"
      ]
     },
     "execution_count": 48,
     "metadata": {},
     "output_type": "execute_result"
    }
   ],
   "source": [
    "len(variables_candidatas)"
   ]
  },
  {
   "cell_type": "markdown",
   "id": "be23aa0f-03a9-415c-a868-298247e583c8",
   "metadata": {},
   "source": [
    "Se consideran estas variables para predecir tm, se plantean modelos de regresión lineal y transformando la variable a log, se realizan las posibles combinaciones de formulas con 10 a 15 variables, un total de 4943. La tranformación inversa es:\n",
    "\n",
    "$$exp(tm+\\hat\\sigma/2 )$$\n",
    "\n",
    "con $\\hat\\sigma$ el estimador de la desviación estandar de los errores, como el criterio de selección es la correlación de espearman se realiza validación cruzada y se realiza dicha predicción tomando la tranformación inversa y para los datos de prueba y entrenamiento se realiza la correlacipon de spearman."
   ]
  },
  {
   "cell_type": "code",
   "execution_count": 164,
   "id": "44fd85cc-c805-4041-8860-0103e1e6d47a",
   "metadata": {},
   "outputs": [
    {
     "data": {
      "text/plain": [
       "4943"
      ]
     },
     "execution_count": 164,
     "metadata": {},
     "output_type": "execute_result"
    }
   ],
   "source": [
    "formulas=powerset_formulas(variables_candidatas, \"np.log(tm)\", 10,15)\n",
    "len(formulas)"
   ]
  },
  {
   "cell_type": "code",
   "execution_count": 137,
   "id": "0c0b1b35-e131-4e19-84f5-80f1038d24d5",
   "metadata": {
    "tags": []
   },
   "outputs": [
    {
     "name": "stderr",
     "output_type": "stream",
     "text": [
      "100%|██████████| 14442/14442 [13:02<00:00, 18.47it/s]\n"
     ]
    }
   ],
   "source": [
    "# X=X.drop(labels=\"tm_log\", axis=1)\n",
    "X_train, X_test, Y_train, Y_test= train_test_split(X,X[\"tm\"],train_size=0.9,random_state=42)\n",
    "list_corr_test=[]\n",
    "list_corr_train=[]\n",
    "for formula_ in tq.tqdm(formulas):\n",
    "    modelo= smf.ols(formula_, data=X_train).fit()\n",
    "    y_train_pred=np.exp(modelo.predict(X_train)+(modelo.scale**2)/2)\n",
    "    y_test_pred=np.exp(modelo.predict(X_test)+(modelo.scale**2)/2)\n",
    "    corr_test=pd.concat([Y_test,y_test_pred ] , axis=1)\n",
    "    corr_test=corr_test.corr(method=\"spearman\").iloc[0,1]\n",
    "    list_corr_test.append(corr_test)\n",
    "    corr_train=pd.concat([Y_train,y_train_pred ] , axis=1)\n",
    "    corr_train=corr_train.corr(method=\"spearman\").iloc[0,1]\n",
    "    list_corr_train.append(corr_train)\n",
    "    "
   ]
  },
  {
   "cell_type": "code",
   "execution_count": 165,
   "id": "c183f80d-fe54-4012-b57d-8cb0c609089f",
   "metadata": {},
   "outputs": [
    {
     "data": {
      "text/html": [
       "<div>\n",
       "<style scoped>\n",
       "    .dataframe tbody tr th:only-of-type {\n",
       "        vertical-align: middle;\n",
       "    }\n",
       "\n",
       "    .dataframe tbody tr th {\n",
       "        vertical-align: top;\n",
       "    }\n",
       "\n",
       "    .dataframe thead th {\n",
       "        text-align: right;\n",
       "    }\n",
       "</style>\n",
       "<table border=\"1\" class=\"dataframe\">\n",
       "  <thead>\n",
       "    <tr style=\"text-align: right;\">\n",
       "      <th></th>\n",
       "      <th>corr_train</th>\n",
       "      <th>corr_test</th>\n",
       "      <th>error_corr</th>\n",
       "    </tr>\n",
       "  </thead>\n",
       "  <tbody>\n",
       "    <tr>\n",
       "      <th>count</th>\n",
       "      <td>4943.000000</td>\n",
       "      <td>4943.000000</td>\n",
       "      <td>4.943000e+03</td>\n",
       "    </tr>\n",
       "    <tr>\n",
       "      <th>mean</th>\n",
       "      <td>0.250627</td>\n",
       "      <td>0.255830</td>\n",
       "      <td>8.483524e-03</td>\n",
       "    </tr>\n",
       "    <tr>\n",
       "      <th>std</th>\n",
       "      <td>0.012168</td>\n",
       "      <td>0.012653</td>\n",
       "      <td>6.211655e-03</td>\n",
       "    </tr>\n",
       "    <tr>\n",
       "      <th>min</th>\n",
       "      <td>0.208439</td>\n",
       "      <td>0.209110</td>\n",
       "      <td>1.229110e-07</td>\n",
       "    </tr>\n",
       "    <tr>\n",
       "      <th>25%</th>\n",
       "      <td>0.244348</td>\n",
       "      <td>0.247485</td>\n",
       "      <td>3.406297e-03</td>\n",
       "    </tr>\n",
       "    <tr>\n",
       "      <th>50%</th>\n",
       "      <td>0.253979</td>\n",
       "      <td>0.257050</td>\n",
       "      <td>7.319355e-03</td>\n",
       "    </tr>\n",
       "    <tr>\n",
       "      <th>75%</th>\n",
       "      <td>0.259320</td>\n",
       "      <td>0.265266</td>\n",
       "      <td>1.259656e-02</td>\n",
       "    </tr>\n",
       "    <tr>\n",
       "      <th>max</th>\n",
       "      <td>0.273904</td>\n",
       "      <td>0.284122</td>\n",
       "      <td>3.130284e-02</td>\n",
       "    </tr>\n",
       "  </tbody>\n",
       "</table>\n",
       "</div>"
      ],
      "text/plain": [
       "        corr_train    corr_test    error_corr\n",
       "count  4943.000000  4943.000000  4.943000e+03\n",
       "mean      0.250627     0.255830  8.483524e-03\n",
       "std       0.012168     0.012653  6.211655e-03\n",
       "min       0.208439     0.209110  1.229110e-07\n",
       "25%       0.244348     0.247485  3.406297e-03\n",
       "50%       0.253979     0.257050  7.319355e-03\n",
       "75%       0.259320     0.265266  1.259656e-02\n",
       "max       0.273904     0.284122  3.130284e-02"
      ]
     },
     "execution_count": 165,
     "metadata": {},
     "output_type": "execute_result"
    }
   ],
   "source": [
    "# result=pd.DataFrame({\"formula\":formulas, \"corr_train\":list_corr_train, \"corr_test\": list_corr_test })\n",
    "# result[\"error_corr\"]=abs(result[\"corr_train\"]-result[\"corr_test\"])\n",
    "# result.to_csv(\"correlacion_modelos5_7.csv\",index=False )\n",
    "result=pd.read_csv(\"correlacion_modelos.csv\")\n",
    "result.describe()"
   ]
  },
  {
   "cell_type": "markdown",
   "id": "a01918cc-cd8b-482d-9c14-64dc70acb7ef",
   "metadata": {},
   "source": [
    "Luego esto es un resumen de las correlaciones obtenidas con los modelos ensayados, en este se puede observa que la mejor correlación entre los modelos es de 0.28, no se alcanzo una mayor correlación entre lo observado y predicho, pero hay una diferencia absoluta máxima de 0.03, esto es bueno ya que de todos los modelos parece que no se presento sobre ajuste con estos modelos."
   ]
  },
  {
   "cell_type": "code",
   "execution_count": 167,
   "id": "581b9b15-9b60-4329-8313-008723d90f1e",
   "metadata": {},
   "outputs": [
    {
     "data": {
      "text/html": [
       "<div>\n",
       "<style scoped>\n",
       "    .dataframe tbody tr th:only-of-type {\n",
       "        vertical-align: middle;\n",
       "    }\n",
       "\n",
       "    .dataframe tbody tr th {\n",
       "        vertical-align: top;\n",
       "    }\n",
       "\n",
       "    .dataframe thead th {\n",
       "        text-align: right;\n",
       "    }\n",
       "</style>\n",
       "<table border=\"1\" class=\"dataframe\">\n",
       "  <thead>\n",
       "    <tr style=\"text-align: right;\">\n",
       "      <th></th>\n",
       "      <th>formula</th>\n",
       "      <th>corr_train</th>\n",
       "      <th>corr_test</th>\n",
       "      <th>error_corr</th>\n",
       "    </tr>\n",
       "  </thead>\n",
       "  <tbody>\n",
       "    <tr>\n",
       "      <th>1469</th>\n",
       "      <td>np.log(tm)~KL+E+protein_length+S+D+SK+KS+ST+K+C</td>\n",
       "      <td>0.267897</td>\n",
       "      <td>0.280273</td>\n",
       "      <td>0.012376</td>\n",
       "    </tr>\n",
       "    <tr>\n",
       "      <th>4681</th>\n",
       "      <td>np.log(tm)~KL+E+protein_length+S+I+D+SK+KS+ST+...</td>\n",
       "      <td>0.267851</td>\n",
       "      <td>0.280286</td>\n",
       "      <td>0.012435</td>\n",
       "    </tr>\n",
       "    <tr>\n",
       "      <th>3774</th>\n",
       "      <td>np.log(tm)~KL+E+protein_length+S+I+D+SK+KS+ST+K+C</td>\n",
       "      <td>0.267946</td>\n",
       "      <td>0.280304</td>\n",
       "      <td>0.012358</td>\n",
       "    </tr>\n",
       "    <tr>\n",
       "      <th>3783</th>\n",
       "      <td>np.log(tm)~KL+E+protein_length+S+I+D+SK+ST+K+N+C</td>\n",
       "      <td>0.266072</td>\n",
       "      <td>0.280311</td>\n",
       "      <td>0.014240</td>\n",
       "    </tr>\n",
       "    <tr>\n",
       "      <th>1478</th>\n",
       "      <td>np.log(tm)~KL+E+protein_length+S+D+SK+ST+K+N+C</td>\n",
       "      <td>0.265780</td>\n",
       "      <td>0.280314</td>\n",
       "      <td>0.014534</td>\n",
       "    </tr>\n",
       "    <tr>\n",
       "      <th>3829</th>\n",
       "      <td>np.log(tm)~KL+E+protein_length+S+D+SK+KS+ST+K+N+C</td>\n",
       "      <td>0.267755</td>\n",
       "      <td>0.280316</td>\n",
       "      <td>0.012562</td>\n",
       "    </tr>\n",
       "    <tr>\n",
       "      <th>3185</th>\n",
       "      <td>np.log(tm)~KL+T+E+protein_length+S+D+SK+KS+ST+K+C</td>\n",
       "      <td>0.268339</td>\n",
       "      <td>0.280330</td>\n",
       "      <td>0.011991</td>\n",
       "    </tr>\n",
       "    <tr>\n",
       "      <th>4479</th>\n",
       "      <td>np.log(tm)~KL+T+E+protein_length+S+D+SK+KS+ST+...</td>\n",
       "      <td>0.268287</td>\n",
       "      <td>0.280335</td>\n",
       "      <td>0.012047</td>\n",
       "    </tr>\n",
       "    <tr>\n",
       "      <th>4424</th>\n",
       "      <td>np.log(tm)~KL+T+E+protein_length+S+I+D+SK+KS+S...</td>\n",
       "      <td>0.268418</td>\n",
       "      <td>0.280351</td>\n",
       "      <td>0.011933</td>\n",
       "    </tr>\n",
       "    <tr>\n",
       "      <th>1367</th>\n",
       "      <td>np.log(tm)~KL+E+protein_length+S+I+D+SK+ST+K+C</td>\n",
       "      <td>0.266099</td>\n",
       "      <td>0.280357</td>\n",
       "      <td>0.014258</td>\n",
       "    </tr>\n",
       "    <tr>\n",
       "      <th>4850</th>\n",
       "      <td>np.log(tm)~KL+T+E+protein_length+S+I+D+SK+KS+S...</td>\n",
       "      <td>0.268381</td>\n",
       "      <td>0.280367</td>\n",
       "      <td>0.011986</td>\n",
       "    </tr>\n",
       "    <tr>\n",
       "      <th>3194</th>\n",
       "      <td>np.log(tm)~KL+T+E+protein_length+S+D+SK+ST+K+N+C</td>\n",
       "      <td>0.266531</td>\n",
       "      <td>0.280385</td>\n",
       "      <td>0.013853</td>\n",
       "    </tr>\n",
       "    <tr>\n",
       "      <th>206</th>\n",
       "      <td>np.log(tm)~KL+T+E+protein_length+S+D+SK+ST+K+C</td>\n",
       "      <td>0.266555</td>\n",
       "      <td>0.280412</td>\n",
       "      <td>0.013856</td>\n",
       "    </tr>\n",
       "    <tr>\n",
       "      <th>331</th>\n",
       "      <td>np.log(tm)~KL+T+E+protein_length+I+D+SK+ST+K+N</td>\n",
       "      <td>0.266190</td>\n",
       "      <td>0.280424</td>\n",
       "      <td>0.014233</td>\n",
       "    </tr>\n",
       "    <tr>\n",
       "      <th>4433</th>\n",
       "      <td>np.log(tm)~KL+T+E+protein_length+S+I+D+SK+ST+K...</td>\n",
       "      <td>0.266621</td>\n",
       "      <td>0.280469</td>\n",
       "      <td>0.013848</td>\n",
       "    </tr>\n",
       "    <tr>\n",
       "      <th>3083</th>\n",
       "      <td>np.log(tm)~KL+T+E+protein_length+S+I+D+SK+ST+K+C</td>\n",
       "      <td>0.266565</td>\n",
       "      <td>0.280469</td>\n",
       "      <td>0.013904</td>\n",
       "    </tr>\n",
       "    <tr>\n",
       "      <th>3073</th>\n",
       "      <td>np.log(tm)~KL+T+E+protein_length+S+I+D+SK+KS+ST+N</td>\n",
       "      <td>0.261674</td>\n",
       "      <td>0.280504</td>\n",
       "      <td>0.018830</td>\n",
       "    </tr>\n",
       "    <tr>\n",
       "      <th>196</th>\n",
       "      <td>np.log(tm)~KL+T+E+protein_length+S+D+SK+KS+ST+N</td>\n",
       "      <td>0.261783</td>\n",
       "      <td>0.280515</td>\n",
       "      <td>0.018732</td>\n",
       "    </tr>\n",
       "    <tr>\n",
       "      <th>55</th>\n",
       "      <td>np.log(tm)~KL+T+E+protein_length+S+I+D+SK+KS+ST</td>\n",
       "      <td>0.260570</td>\n",
       "      <td>0.280532</td>\n",
       "      <td>0.019961</td>\n",
       "    </tr>\n",
       "    <tr>\n",
       "      <th>1357</th>\n",
       "      <td>np.log(tm)~KL+E+protein_length+S+I+D+SK+KS+ST+N</td>\n",
       "      <td>0.261779</td>\n",
       "      <td>0.280544</td>\n",
       "      <td>0.018765</td>\n",
       "    </tr>\n",
       "    <tr>\n",
       "      <th>436</th>\n",
       "      <td>np.log(tm)~KL+T+E+protein_length+D+SK+KS+ST+N+C</td>\n",
       "      <td>0.262042</td>\n",
       "      <td>0.281396</td>\n",
       "      <td>0.019354</td>\n",
       "    </tr>\n",
       "    <tr>\n",
       "      <th>3271</th>\n",
       "      <td>np.log(tm)~KL+T+E+protein_length+I+D+SK+KS+ST+N+C</td>\n",
       "      <td>0.261942</td>\n",
       "      <td>0.281483</td>\n",
       "      <td>0.019541</td>\n",
       "    </tr>\n",
       "    <tr>\n",
       "      <th>1562</th>\n",
       "      <td>np.log(tm)~KL+E+protein_length+I+D+SK+ST+K+N+C</td>\n",
       "      <td>0.266542</td>\n",
       "      <td>0.281588</td>\n",
       "      <td>0.015046</td>\n",
       "    </tr>\n",
       "    <tr>\n",
       "      <th>332</th>\n",
       "      <td>np.log(tm)~KL+T+E+protein_length+I+D+SK+ST+K+C</td>\n",
       "      <td>0.267051</td>\n",
       "      <td>0.282027</td>\n",
       "      <td>0.014975</td>\n",
       "    </tr>\n",
       "    <tr>\n",
       "      <th>3278</th>\n",
       "      <td>np.log(tm)~KL+T+E+protein_length+I+D+SK+ST+K+N+C</td>\n",
       "      <td>0.267228</td>\n",
       "      <td>0.282099</td>\n",
       "      <td>0.014871</td>\n",
       "    </tr>\n",
       "    <tr>\n",
       "      <th>443</th>\n",
       "      <td>np.log(tm)~KL+T+E+protein_length+D+SK+ST+K+N+C</td>\n",
       "      <td>0.267121</td>\n",
       "      <td>0.282174</td>\n",
       "      <td>0.015053</td>\n",
       "    </tr>\n",
       "  </tbody>\n",
       "</table>\n",
       "</div>"
      ],
      "text/plain": [
       "                                                formula  corr_train  \\\n",
       "1469    np.log(tm)~KL+E+protein_length+S+D+SK+KS+ST+K+C    0.267897   \n",
       "4681  np.log(tm)~KL+E+protein_length+S+I+D+SK+KS+ST+...    0.267851   \n",
       "3774  np.log(tm)~KL+E+protein_length+S+I+D+SK+KS+ST+K+C    0.267946   \n",
       "3783   np.log(tm)~KL+E+protein_length+S+I+D+SK+ST+K+N+C    0.266072   \n",
       "1478     np.log(tm)~KL+E+protein_length+S+D+SK+ST+K+N+C    0.265780   \n",
       "3829  np.log(tm)~KL+E+protein_length+S+D+SK+KS+ST+K+N+C    0.267755   \n",
       "3185  np.log(tm)~KL+T+E+protein_length+S+D+SK+KS+ST+K+C    0.268339   \n",
       "4479  np.log(tm)~KL+T+E+protein_length+S+D+SK+KS+ST+...    0.268287   \n",
       "4424  np.log(tm)~KL+T+E+protein_length+S+I+D+SK+KS+S...    0.268418   \n",
       "1367     np.log(tm)~KL+E+protein_length+S+I+D+SK+ST+K+C    0.266099   \n",
       "4850  np.log(tm)~KL+T+E+protein_length+S+I+D+SK+KS+S...    0.268381   \n",
       "3194   np.log(tm)~KL+T+E+protein_length+S+D+SK+ST+K+N+C    0.266531   \n",
       "206      np.log(tm)~KL+T+E+protein_length+S+D+SK+ST+K+C    0.266555   \n",
       "331      np.log(tm)~KL+T+E+protein_length+I+D+SK+ST+K+N    0.266190   \n",
       "4433  np.log(tm)~KL+T+E+protein_length+S+I+D+SK+ST+K...    0.266621   \n",
       "3083   np.log(tm)~KL+T+E+protein_length+S+I+D+SK+ST+K+C    0.266565   \n",
       "3073  np.log(tm)~KL+T+E+protein_length+S+I+D+SK+KS+ST+N    0.261674   \n",
       "196     np.log(tm)~KL+T+E+protein_length+S+D+SK+KS+ST+N    0.261783   \n",
       "55      np.log(tm)~KL+T+E+protein_length+S+I+D+SK+KS+ST    0.260570   \n",
       "1357    np.log(tm)~KL+E+protein_length+S+I+D+SK+KS+ST+N    0.261779   \n",
       "436     np.log(tm)~KL+T+E+protein_length+D+SK+KS+ST+N+C    0.262042   \n",
       "3271  np.log(tm)~KL+T+E+protein_length+I+D+SK+KS+ST+N+C    0.261942   \n",
       "1562     np.log(tm)~KL+E+protein_length+I+D+SK+ST+K+N+C    0.266542   \n",
       "332      np.log(tm)~KL+T+E+protein_length+I+D+SK+ST+K+C    0.267051   \n",
       "3278   np.log(tm)~KL+T+E+protein_length+I+D+SK+ST+K+N+C    0.267228   \n",
       "443      np.log(tm)~KL+T+E+protein_length+D+SK+ST+K+N+C    0.267121   \n",
       "\n",
       "      corr_test  error_corr  \n",
       "1469   0.280273    0.012376  \n",
       "4681   0.280286    0.012435  \n",
       "3774   0.280304    0.012358  \n",
       "3783   0.280311    0.014240  \n",
       "1478   0.280314    0.014534  \n",
       "3829   0.280316    0.012562  \n",
       "3185   0.280330    0.011991  \n",
       "4479   0.280335    0.012047  \n",
       "4424   0.280351    0.011933  \n",
       "1367   0.280357    0.014258  \n",
       "4850   0.280367    0.011986  \n",
       "3194   0.280385    0.013853  \n",
       "206    0.280412    0.013856  \n",
       "331    0.280424    0.014233  \n",
       "4433   0.280469    0.013848  \n",
       "3083   0.280469    0.013904  \n",
       "3073   0.280504    0.018830  \n",
       "196    0.280515    0.018732  \n",
       "55     0.280532    0.019961  \n",
       "1357   0.280544    0.018765  \n",
       "436    0.281396    0.019354  \n",
       "3271   0.281483    0.019541  \n",
       "1562   0.281588    0.015046  \n",
       "332    0.282027    0.014975  \n",
       "3278   0.282099    0.014871  \n",
       "443    0.282174    0.015053  "
      ]
     },
     "execution_count": 167,
     "metadata": {},
     "output_type": "execute_result"
    }
   ],
   "source": [
    "posibles_modelos=result[(result[\"error_corr\"] <0.02) & (result[\"corr_test\"]>0.28 ) & (result[\"corr_train\"]>0.26 ) ].sort_values(\"corr_test\")#.tail(10)\n",
    "posibles_modelos"
   ]
  },
  {
   "cell_type": "markdown",
   "id": "b9c7749f-261c-4aaa-90cc-268285717b30",
   "metadata": {},
   "source": [
    "Se realizan varios filtros y se piensa en estos posibles modelos.se selecciono este modelo: 'np.log(tm)~KL+T+E+protein_length+S+D+SK+ST+K+N+C'\n"
   ]
  },
  {
   "cell_type": "code",
   "execution_count": 172,
   "id": "fc6d2679-051d-4535-ba83-beb5f3fb2b0b",
   "metadata": {},
   "outputs": [
    {
     "data": {
      "image/png": "[encoded data removed]",
      "text/plain": [
       "<Figure size 432x288 with 1 Axes>"
      ]
     },
     "metadata": {
      "needs_background": "light"
     },
     "output_type": "display_data"
    }
   ],
   "source": [
    "modelo= smf.ols(posibles_modelos.iloc[11,0], data=X_train).fit()\n",
    "y_train_pred=np.exp(modelo.predict(X_train))#+(modelo.scale**2)/2)\n",
    "y_test_pred=np.exp(modelo.predict(X_test))#+(modelo.scale**2)/2)\n",
    "pred_train=pd.concat([Y_train,y_train_pred ] , axis=1)\n",
    "pred_test=pd.concat([Y_test,y_test_pred ] , axis=1)\n",
    "plt.scatter(x=pred_train[\"tm\"],y=pred_train[0])\n",
    "plt.ylim(0,120)\n",
    "abline(1,0)"
   ]
  },
  {
   "cell_type": "markdown",
   "id": "138723a7-4e30-4cf9-85bd-6f196efae08f",
   "metadata": {},
   "source": [
    "Con los datos de entrenamiento se observa que no es capaz de predecir correctamente a termoestabilidades altes, también se centra mucho en una sola media."
   ]
  },
  {
   "cell_type": "code",
   "execution_count": 174,
   "id": "63661f32-27a6-435f-a1f3-95f52abbc6b2",
   "metadata": {},
   "outputs": [
    {
     "data": {
      "image/png": "[encoded data removed]",
      "text/plain": [
       "<Figure size 432x288 with 1 Axes>"
      ]
     },
     "metadata": {
      "needs_background": "light"
     },
     "output_type": "display_data"
    }
   ],
   "source": [
    "plt.scatter(x=pred_test[\"tm\"],y=pred_test[0])\n",
    "abline(1,0)"
   ]
  },
  {
   "cell_type": "markdown",
   "id": "cb14b69b-3cf9-4b62-b0e4-a43c59fe9f49",
   "metadata": {},
   "source": [
    "Para los datos de preuba sucede algo similar, con los modelos no se encontro un mejor modelo, se opta por usar arboles con el algoritmo de xgboost, en este caso se usan las variables candidatas:"
   ]
  },
  {
   "cell_type": "code",
   "execution_count": 210,
   "id": "19e9a382-3d32-4903-bd16-1fa0f6d9f12f",
   "metadata": {},
   "outputs": [
    {
     "data": {
      "text/plain": [
       "XGBRegressor(base_score=0.5, booster='gbtree', callbacks=None,\n",
       "             colsample_bylevel=1, colsample_bynode=1, colsample_bytree=1,\n",
       "             early_stopping_rounds=None, enable_categorical=False,\n",
       "             eval_metric=None, feature_types=None, gamma=0, gpu_id=-1,\n",
       "             grow_policy='depthwise', importance_type=None,\n",
       "             interaction_constraints='', learning_rate=0.05, max_bin=256,\n",
       "             max_cat_threshold=64, max_cat_to_onehot=4, max_delta_step=0,\n",
       "             max_depth=7, max_leaves=0, min_child_weight=1, missing=nan,\n",
       "             monotone_constraints='()', n_estimators=300, n_jobs=0,\n",
       "             num_parallel_tree=1, predictor='auto', random_state=0, ...)"
      ]
     },
     "execution_count": 210,
     "metadata": {},
     "output_type": "execute_result"
    }
   ],
   "source": [
    "xgb = XGBRegressor(n_estimators=300,learning_rate=0.05,max_depth=7)\n",
    "xgb.fit(X_train[variables_candidatas],Y_train)"
   ]
  },
  {
   "cell_type": "code",
   "execution_count": 211,
   "id": "c31122f8-e9f8-45af-8483-3cc27afb0ffb",
   "metadata": {},
   "outputs": [],
   "source": [
    "pred_train_xgb=(xgb.predict(X_train[variables_candidatas]))\n",
    "pred_test_xgb=(xgb.predict(X_test[variables_candidatas]))\n",
    "pred_train_xgb=pd.concat([Y_train,pd.Series(pred_train_xgb,index=Y_train.index) ] , axis=1)\n",
    "pred_test_xgb=pd.concat([Y_test,pd.Series(pred_test_xgb,index=Y_test.index) ] , axis=1)"
   ]
  },
  {
   "cell_type": "code",
   "execution_count": 213,
   "id": "34f88162-f167-4d9f-a414-572ee325601d",
   "metadata": {},
   "outputs": [
    {
     "data": {
      "image/png": "[encoded data removed]",
      "text/plain": [
       "<Figure size 432x288 with 1 Axes>"
      ]
     },
     "metadata": {
      "needs_background": "light"
     },
     "output_type": "display_data"
    }
   ],
   "source": [
    "plt.scatter(x=pred_train_xgb[\"tm\"],y=pred_train_xgb[0])\n",
    "abline(1,0)"
   ]
  },
  {
   "cell_type": "code",
   "execution_count": 214,
   "id": "a95dff75-d364-4b71-aebf-8e36dd7b1212",
   "metadata": {},
   "outputs": [
    {
     "data": {
      "image/png": "[encoded data removed]",
      "text/plain": [
       "<Figure size 432x288 with 1 Axes>"
      ]
     },
     "metadata": {
      "needs_background": "light"
     },
     "output_type": "display_data"
    }
   ],
   "source": [
    "plt.scatter(x=pred_test_xgb[\"tm\"],y=pred_test_xgb[0])\n",
    "abline(1,0)"
   ]
  },
  {
   "cell_type": "code",
   "execution_count": 215,
   "id": "86f40eb6-528a-431e-93e0-d607f63b582b",
   "metadata": {},
   "outputs": [
    {
     "name": "stdout",
     "output_type": "stream",
     "text": [
      "entrenamiento\n",
      "SpearmanrResult(correlation=0.7047530197708651, pvalue=0.0)\n",
      "prueba\n",
      "SpearmanrResult(correlation=0.5377395409330619, pvalue=7.580061236533967e-215)\n"
     ]
    }
   ],
   "source": [
    "print(\"entrenamiento\")\n",
    "print(spearmanr(pred_train_xgb))\n",
    "print(\"prueba\")\n",
    "print(spearmanr(pred_test_xgb))"
   ]
  },
  {
   "cell_type": "markdown",
   "id": "4f9a598c-1a29-47d9-8728-fdd17a87b179",
   "metadata": {},
   "source": [
    "Por medio de este metodo se observa que la correlación de spearman es mucho mayor que con los modelos de regresión, aunque claramente hay un sobre ajuste, este consigue mejores correlaciones que los modelos anteriores ya que como máximo se obtenia una correlación de 0.3, mientras que este para los datos de prueba llega a una correlación de 0.53, por esto se escoge el modelo de xgboost."
   ]
  },
  {
   "cell_type": "markdown",
   "id": "0ddd314c-609f-4e99-9584-a70dc59ea864",
   "metadata": {},
   "source": [
    "# Predicción final\n",
    "\n",
    "Luego de observar los modelos xgboost y modelos de regresión se hace una predicción, se crean las variables y al final se realiza la predicción con ambos modelos, se obtiene un score por medio de los dos metodos."
   ]
  },
  {
   "cell_type": "code",
   "execution_count": 216,
   "id": "1f0ceca0-57ff-486f-b0d7-951a449869b8",
   "metadata": {
    "tags": []
   },
   "outputs": [
    {
     "name": "stderr",
     "output_type": "stream",
     "text": [
      "100%|██████████| 400/400 [00:01<00:00, 251.59it/s]\n"
     ]
    }
   ],
   "source": [
    "df_test=pd.read_csv(\"test.csv\")\n",
    "df_test['protein_length'] = df_test.protein_sequence.apply(lambda x: len(x))\n",
    "df_test = count_letter(df_test, \"protein_sequence\", list_words)\n",
    "df_test['protein_length'] = np.log(df_test['protein_length'])"
   ]
  },
  {
   "cell_type": "code",
   "execution_count": 226,
   "id": "1814f6da-fb94-4834-a646-1770bc24c748",
   "metadata": {},
   "outputs": [],
   "source": [
    "xgb = XGBRegressor(n_estimators=300,learning_rate=0.05,max_depth=7)\n",
    "# xgb.fit(X[variables_candidatas],X[\"tm\"])\n",
    "xgb.fit(X_train[variables_candidatas],Y_train)\n",
    "pred_test = xgb.predict(df_test[variables_candidatas])\n",
    "submit_2=pd.DataFrame({\"seq_id\":df_test[\"seq_id\"], \"tm\": pred_test })"
   ]
  },
  {
   "cell_type": "code",
   "execution_count": 227,
   "id": "bf90758b-b7e1-48e8-966e-d8c2dba14a2b",
   "metadata": {},
   "outputs": [
    {
     "data": {
      "text/plain": [
       "<AxesSubplot:>"
      ]
     },
     "execution_count": 227,
     "metadata": {},
     "output_type": "execute_result"
    },
    {
     "data": {
      "image/png": "[encoded data removed]",
      "text/plain": [
       "<Figure size 432x288 with 1 Axes>"
      ]
     },
     "metadata": {
      "needs_background": "light"
     },
     "output_type": "display_data"
    }
   ],
   "source": [
    "submit_2.tm.hist()"
   ]
  },
  {
   "cell_type": "markdown",
   "id": "8e61ae4f-f01b-463e-be8d-e1efad0e439f",
   "metadata": {},
   "source": [
    "Esta es la predicción que se obtiene con los datos de testeo que se presentan en la competencia."
   ]
  },
  {
   "cell_type": "code",
   "execution_count": 228,
   "id": "69c5eacb-fef0-44e0-9e69-9a5025cc582b",
   "metadata": {},
   "outputs": [],
   "source": [
    "submit_2.to_csv(\"submit_xgb.csv\",index=False)"
   ]
  },
  {
   "cell_type": "code",
   "execution_count": 230,
   "id": "162fa4f8-30d6-4b9b-87b7-85c8bc01b7ab",
   "metadata": {},
   "outputs": [],
   "source": [
    "modelo_final= smf.ols('np.log(tm)~KL+T+E+protein_length+S+D+SK+ST+K+N+C', data=X).fit()\n",
    "pred_test_lm = np.exp(modelo_final.predict(df_test[variables_candidatas])+(modelo_final.scale**2)/2)\n",
    "submit_lm=pd.DataFrame({\"seq_id\":df_test[\"seq_id\"], \"tm\": pred_test_lm })"
   ]
  },
  {
   "cell_type": "code",
   "execution_count": 234,
   "id": "0cf6e645-093a-40bd-bac0-ca89e142a5eb",
   "metadata": {},
   "outputs": [],
   "source": [
    "submit_lm.to_csv(\"submit_lm.csv\",index=False)"
   ]
  },
  {
   "cell_type": "markdown",
   "id": "73c049e6-0c38-4d86-884c-29e170153321",
   "metadata": {},
   "source": [
    "El mejor modelo en este caso según ese score fue el modelo de regresión con transformación log"
   ]
  },
  {
   "cell_type": "code",
   "execution_count": 239,
   "id": "28a4d2f6-455c-46e4-95fd-570f465f08f4",
   "metadata": {},
   "outputs": [
    {
     "data": {
      "text/html": [
       "<table class=\"simpletable\">\n",
       "<caption>OLS Regression Results</caption>\n",
       "<tr>\n",
       "  <th>Dep. Variable:</th>       <td>np.log(tm)</td>    <th>  R-squared:         </th> <td>   0.068</td>\n",
       "</tr>\n",
       "<tr>\n",
       "  <th>Model:</th>                   <td>OLS</td>       <th>  Adj. R-squared:    </th> <td>   0.067</td>\n",
       "</tr>\n",
       "<tr>\n",
       "  <th>Method:</th>             <td>Least Squares</td>  <th>  F-statistic:       </th> <td>   189.6</td>\n",
       "</tr>\n",
       "<tr>\n",
       "  <th>Date:</th>             <td>Thu, 01 Dec 2022</td> <th>  Prob (F-statistic):</th>  <td>  0.00</td> \n",
       "</tr>\n",
       "<tr>\n",
       "  <th>Time:</th>                 <td>23:29:56</td>     <th>  Log-Likelihood:    </th> <td>  4584.8</td>\n",
       "</tr>\n",
       "<tr>\n",
       "  <th>No. Observations:</th>      <td> 28695</td>      <th>  AIC:               </th> <td>  -9146.</td>\n",
       "</tr>\n",
       "<tr>\n",
       "  <th>Df Residuals:</th>          <td> 28683</td>      <th>  BIC:               </th> <td>  -9046.</td>\n",
       "</tr>\n",
       "<tr>\n",
       "  <th>Df Model:</th>              <td>    11</td>      <th>                     </th>     <td> </td>   \n",
       "</tr>\n",
       "<tr>\n",
       "  <th>Covariance Type:</th>      <td>nonrobust</td>    <th>                     </th>     <td> </td>   \n",
       "</tr>\n",
       "</table>\n",
       "<table class=\"simpletable\">\n",
       "<tr>\n",
       "         <td></td>           <th>coef</th>     <th>std err</th>      <th>t</th>      <th>P>|t|</th>  <th>[0.025</th>    <th>0.975]</th>  \n",
       "</tr>\n",
       "<tr>\n",
       "  <th>Intercept</th>      <td>    4.1025</td> <td>    0.015</td> <td>  270.221</td> <td> 0.000</td> <td>    4.073</td> <td>    4.132</td>\n",
       "</tr>\n",
       "<tr>\n",
       "  <th>KL</th>             <td>   -0.0078</td> <td>    0.001</td> <td>  -11.024</td> <td> 0.000</td> <td>   -0.009</td> <td>   -0.006</td>\n",
       "</tr>\n",
       "<tr>\n",
       "  <th>T</th>              <td>    0.0002</td> <td>    0.000</td> <td>    1.294</td> <td> 0.196</td> <td>   -0.000</td> <td>    0.001</td>\n",
       "</tr>\n",
       "<tr>\n",
       "  <th>E</th>              <td>    0.0026</td> <td> 9.73e-05</td> <td>   26.905</td> <td> 0.000</td> <td>    0.002</td> <td>    0.003</td>\n",
       "</tr>\n",
       "<tr>\n",
       "  <th>protein_length</th> <td>   -0.0284</td> <td>    0.003</td> <td>   -9.881</td> <td> 0.000</td> <td>   -0.034</td> <td>   -0.023</td>\n",
       "</tr>\n",
       "<tr>\n",
       "  <th>S</th>              <td>-6.081e-05</td> <td>    0.000</td> <td>   -0.607</td> <td> 0.544</td> <td>   -0.000</td> <td>    0.000</td>\n",
       "</tr>\n",
       "<tr>\n",
       "  <th>D</th>              <td>   -0.0010</td> <td>    0.000</td> <td>   -6.660</td> <td> 0.000</td> <td>   -0.001</td> <td>   -0.001</td>\n",
       "</tr>\n",
       "<tr>\n",
       "  <th>SK</th>             <td>   -0.0047</td> <td>    0.001</td> <td>   -5.373</td> <td> 0.000</td> <td>   -0.006</td> <td>   -0.003</td>\n",
       "</tr>\n",
       "<tr>\n",
       "  <th>ST</th>             <td>   -0.0041</td> <td>    0.001</td> <td>   -4.763</td> <td> 0.000</td> <td>   -0.006</td> <td>   -0.002</td>\n",
       "</tr>\n",
       "<tr>\n",
       "  <th>K</th>              <td>   -0.0015</td> <td>    0.000</td> <td>  -10.515</td> <td> 0.000</td> <td>   -0.002</td> <td>   -0.001</td>\n",
       "</tr>\n",
       "<tr>\n",
       "  <th>N</th>              <td>  5.86e-05</td> <td>    0.000</td> <td>    0.394</td> <td> 0.693</td> <td>   -0.000</td> <td>    0.000</td>\n",
       "</tr>\n",
       "<tr>\n",
       "  <th>C</th>              <td>   -0.0010</td> <td>    0.000</td> <td>   -6.137</td> <td> 0.000</td> <td>   -0.001</td> <td>   -0.001</td>\n",
       "</tr>\n",
       "</table>\n",
       "<table class=\"simpletable\">\n",
       "<tr>\n",
       "  <th>Omnibus:</th>       <td>1483.972</td> <th>  Durbin-Watson:     </th> <td>   1.656</td>\n",
       "</tr>\n",
       "<tr>\n",
       "  <th>Prob(Omnibus):</th>  <td> 0.000</td>  <th>  Jarque-Bera (JB):  </th> <td>1809.678</td>\n",
       "</tr>\n",
       "<tr>\n",
       "  <th>Skew:</th>           <td> 0.541</td>  <th>  Prob(JB):          </th> <td>    0.00</td>\n",
       "</tr>\n",
       "<tr>\n",
       "  <th>Kurtosis:</th>       <td> 3.586</td>  <th>  Cond. No.          </th> <td>1.21e+03</td>\n",
       "</tr>\n",
       "</table><br/><br/>Notes:<br/>[1] Standard Errors assume that the covariance matrix of the errors is correctly specified.<br/>[2] The condition number is large, 1.21e+03. This might indicate that there are<br/>strong multicollinearity or other numerical problems."
      ],
      "text/plain": [
       "<class 'statsmodels.iolib.summary.Summary'>\n",
       "\"\"\"\n",
       "                            OLS Regression Results                            \n",
       "==============================================================================\n",
       "Dep. Variable:             np.log(tm)   R-squared:                       0.068\n",
       "Model:                            OLS   Adj. R-squared:                  0.067\n",
       "Method:                 Least Squares   F-statistic:                     189.6\n",
       "Date:                Thu, 01 Dec 2022   Prob (F-statistic):               0.00\n",
       "Time:                        23:29:56   Log-Likelihood:                 4584.8\n",
       "No. Observations:               28695   AIC:                            -9146.\n",
       "Df Residuals:                   28683   BIC:                            -9046.\n",
       "Df Model:                          11                                         \n",
       "Covariance Type:            nonrobust                                         \n",
       "==================================================================================\n",
       "                     coef    std err          t      P>|t|      [0.025      0.975]\n",
       "----------------------------------------------------------------------------------\n",
       "Intercept          4.1025      0.015    270.221      0.000       4.073       4.132\n",
       "KL                -0.0078      0.001    -11.024      0.000      -0.009      -0.006\n",
       "T                  0.0002      0.000      1.294      0.196      -0.000       0.001\n",
       "E                  0.0026   9.73e-05     26.905      0.000       0.002       0.003\n",
       "protein_length    -0.0284      0.003     -9.881      0.000      -0.034      -0.023\n",
       "S              -6.081e-05      0.000     -0.607      0.544      -0.000       0.000\n",
       "D                 -0.0010      0.000     -6.660      0.000      -0.001      -0.001\n",
       "SK                -0.0047      0.001     -5.373      0.000      -0.006      -0.003\n",
       "ST                -0.0041      0.001     -4.763      0.000      -0.006      -0.002\n",
       "K                 -0.0015      0.000    -10.515      0.000      -0.002      -0.001\n",
       "N                5.86e-05      0.000      0.394      0.693      -0.000       0.000\n",
       "C                 -0.0010      0.000     -6.137      0.000      -0.001      -0.001\n",
       "==============================================================================\n",
       "Omnibus:                     1483.972   Durbin-Watson:                   1.656\n",
       "Prob(Omnibus):                  0.000   Jarque-Bera (JB):             1809.678\n",
       "Skew:                           0.541   Prob(JB):                         0.00\n",
       "Kurtosis:                       3.586   Cond. No.                     1.21e+03\n",
       "==============================================================================\n",
       "\n",
       "Notes:\n",
       "[1] Standard Errors assume that the covariance matrix of the errors is correctly specified.\n",
       "[2] The condition number is large, 1.21e+03. This might indicate that there are\n",
       "strong multicollinearity or other numerical problems.\n",
       "\"\"\""
      ]
     },
     "execution_count": 239,
     "metadata": {},
     "output_type": "execute_result"
    }
   ],
   "source": [
    "modelo_final.summary()"
   ]
  },
  {
   "cell_type": "markdown",
   "id": "c8df9664-8689-46aa-a656-8ae0c54cea0a",
   "metadata": {},
   "source": [
    "inicialmente se obtuvo un score de -0.115 y se logro una mejora a 0.088 y la mejora fue de 0.203."
   ]
  }
 ],
 "metadata": {
  "kernelspec": {
   "display_name": "Python 3 (ipykernel)",
   "language": "python",
   "name": "python3"
  },
  "language_info": {
   "codemirror_mode": {
    "name": "ipython",
    "version": 3
   },
   "file_extension": ".py",
   "mimetype": "text/x-python",
   "name": "python",
   "nbconvert_exporter": "python",
   "pygments_lexer": "ipython3",
   "version": "3.9.12"
  },
  "toc-autonumbering": true,
  "toc-showcode": true,
  "toc-showmarkdowntxt": true
 },
 "nbformat": 4,
 "nbformat_minor": 5
}
